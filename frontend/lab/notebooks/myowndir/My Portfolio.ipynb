{
 "cells": [
  {
   "cell_type": "code",
   "execution_count": 7,
   "id": "f4683ac4-e461-4a82-98d5-7c03ad92ca9c",
   "metadata": {},
   "outputs": [
    {
     "data": {
      "text/plain": [
       "5125159.511077881"
      ]
     },
     "execution_count": 7,
     "metadata": {},
     "output_type": "execute_result"
    }
   ],
   "source": [
    "from Portfolio import Portfolio\n",
    "from Valuations import PortfolioValuator\n",
    "from TimeSeries import TimeSeries\n",
    "import numpy as npplt\n",
    "import pandas as pd\n",
    "import matplotlib.pyplot as plt \n",
    "from datetime import date\n",
    "\n",
    "\n",
    "my_portfolio:Portfolio = Portfolio()\n",
    "my_portfolio.buy('MSCI', 2578) #Performance shares\n",
    "my_portfolio.buy('MSCI', 3916) #Restricted shares\n",
    "my_portfolio.buy('MSCI', 3916) #Stock options\n",
    "my_portfolio.buy('MSCI', 807)  #Bradridge shares\n",
    "v:PortfolioValuator = PortfolioValuator(portfolio=my_portfolio)\n",
    "v.get_valuation(date.fromisoformat(\"2022-09-01\"))"
   ]
  },
  {
   "cell_type": "code",
   "execution_count": 9,
   "id": "2bc778e8-b318-4fe5-b816-3deef619c52b",
   "metadata": {},
   "outputs": [
    {
     "data": {
      "text/plain": [
       "6125159.511077881"
      ]
     },
     "execution_count": 9,
     "metadata": {},
     "output_type": "execute_result"
    }
   ],
   "source": [
    "#Add cash\n",
    "my_portfolio.add('USD', 1000000)\n",
    "PortfolioValuator(portfolio=my_portfolio).get_valuation(date.fromisoformat(\"2022-09-01\"))"
   ]
  },
  {
   "cell_type": "code",
   "execution_count": null,
   "id": "c73960c0-517a-4828-9e20-e2a026a758d9",
   "metadata": {},
   "outputs": [],
   "source": []
  }
 ],
 "metadata": {
  "kernelspec": {
   "display_name": "Python 3 (ipykernel)",
   "language": "python",
   "name": "python3"
  },
  "language_info": {
   "codemirror_mode": {
    "name": "ipython",
    "version": 3
   },
   "file_extension": ".py",
   "mimetype": "text/x-python",
   "name": "python",
   "nbconvert_exporter": "python",
   "pygments_lexer": "ipython3",
   "version": "3.10.5"
  }
 },
 "nbformat": 4,
 "nbformat_minor": 5
}
