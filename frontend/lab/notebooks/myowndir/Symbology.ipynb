{
 "cells": [
  {
   "cell_type": "code",
   "execution_count": 1,
   "id": "722de49e-b3d3-4cf0-9c9f-2f8b725ee62a",
   "metadata": {},
   "outputs": [
    {
     "name": "stdout",
     "output_type": "stream",
     "text": [
      "ACWI.PA found with value as of 29th of November of 347.97900390625 in USD\n"
     ]
    }
   ],
   "source": [
    "from pmdata import search_isin\n",
    "from pmdata import get_datapoint\n",
    "from datetime import date\n",
    "for found in search_isin(\"LU1829220216\"):\n",
    "    print(\"{code}.{exchange} found with value as of 29th of November of {value} in {currency}\".format(\n",
    "        code=found.code, exchange=found.exchange, value=get_datapoint(found.get_full_ticker(), \"adjusted_close\", date(2022, 11, 28)), \n",
    "        currency=found.currency))"
   ]
  },
  {
   "cell_type": "code",
   "execution_count": 2,
   "id": "d414a2e5-b449-4bea-8144-9f536a663f38",
   "metadata": {},
   "outputs": [
    {
     "data": {
      "text/plain": [
       "[]"
      ]
     },
     "execution_count": 2,
     "metadata": {},
     "output_type": "execute_result"
    }
   ],
   "source": [
    "from pmdata import search\n",
    "search(\"LYXOR MSCI ALL COUNTRY WORLD\")"
   ]
  }
 ],
 "metadata": {
  "kernelspec": {
   "display_name": "Python 3 (ipykernel)",
   "language": "python",
   "name": "python3"
  },
  "language_info": {
   "codemirror_mode": {
    "name": "ipython",
    "version": 3
   },
   "file_extension": ".py",
   "mimetype": "text/x-python",
   "name": "python",
   "nbconvert_exporter": "python",
   "pygments_lexer": "ipython3",
   "version": "3.10.5"
  }
 },
 "nbformat": 4,
 "nbformat_minor": 5
}
