{
 "cells": [
  {
   "cell_type": "code",
   "execution_count": 23,
   "id": "f4683ac4-e461-4a82-98d5-7c03ad92ca9c",
   "metadata": {},
   "outputs": [
    {
     "name": "stdout",
     "output_type": "stream",
     "text": [
      "Position MSCI.US of 2578 shares is valued at 1320606.31\n",
      "Position MSCI.US of 3916 shares is valued at 2006010.20\n",
      "Position MSCI.US of 1110 shares is valued at 568608.61\n",
      "Position MSCI.US of 807 shares is valued at 413393.83\n",
      "Position MSCI.US of 3000 shares is valued at 1536780.03\n",
      "Value of the MSCI stocks: 5845398.97 USD\n"
     ]
    }
   ],
   "source": [
    "from Portfolios import Portfolio, PortfolioValuator, PositionIdentifier, InstrumentValuator\n",
    "from PositionIdentifier import Currency\n",
    "from TimeSeries import TimeSeries\n",
    "import numpy as npplt\n",
    "import pandas as pd\n",
    "import matplotlib.pyplot as plt \n",
    "from datetime import date\n",
    "\n",
    "\n",
    "my_portfolio:Portfolio = Portfolio()\n",
    "my_portfolio.buy('MSCI', 2578, tags={'PERFORMANCE SHARES'}) #Performance shares\n",
    "my_portfolio.buy('MSCI', 3916, tags={'RESTRICTED SHARES'}) #Restricted shares\n",
    "my_portfolio.buy('MSCI', 1110, tags={'STOCK OPTIONS'}) #Stock options\n",
    "my_portfolio.buy('MSCI', 807, tags={'BROADRIDGE SHARES'})  #Bradridge shares\n",
    "my_portfolio.buy('MSCI', 3000, tags={'MORGAN STANLEY SHARES'})  #Bradridge shares\n",
    "v:PortfolioValuator = PortfolioValuator(portfolio=my_portfolio)\n",
    "# Get the valuation of each position in the portfolio\n",
    "for position_identifier in my_portfolio.get_positions():\n",
    "    position_valuator = InstrumentValuator.valuator(my_portfolio, position_identifier)\n",
    "    val = position_valuator.get_valuation(date(2022,11,27), Currency(\"USD\"))\n",
    "    print(\"Position {ticker} of {shares} shares is valued at {valuation:.2f}\".format(ticker=position_identifier.id.get_full_ticker(), shares=my_portfolio.get_position_amount(position_identifier), valuation=val))\n",
    "# Value the MSCI stocks\n",
    "msci_stocks = v.get_valuation(date.fromisoformat(\"2022-11-27\"))\n",
    "print(\"Value of the MSCI stocks: {msci_stocks:.2f} USD\".format(msci_stocks=msci_stocks))"
   ]
  },
  {
   "cell_type": "code",
   "execution_count": 24,
   "id": "2bc778e8-b318-4fe5-b816-3deef619c52b",
   "metadata": {},
   "outputs": [
    {
     "name": "stdout",
     "output_type": "stream",
     "text": [
      "6319360.764816645\n"
     ]
    }
   ],
   "source": [
    "#Add cash\n",
    "my_portfolio.add('CHF', 14845)  # BCGE\n",
    "my_portfolio.add('EUR', 2000)   # N26\n",
    "my_portfolio.add('EUR', 1169)   # Boursorama\n",
    "my_portfolio.add('CHF', 387798) # UBS\n",
    "my_portfolio.add('CHF', 42233)  # Liechsteinstein\n",
    "with_cash = PortfolioValuator(portfolio=my_portfolio).get_valuation(date.fromisoformat(\"2022-11-27\"))\n",
    "print(with_cash)"
   ]
  },
  {
   "cell_type": "code",
   "execution_count": 25,
   "id": "934acdb8-e25e-41f6-81af-2ce750308ce6",
   "metadata": {},
   "outputs": [
    {
     "name": "stdout",
     "output_type": "stream",
     "text": [
      "Cryptos are valued at: 82518.73\n",
      "Portfolio valuation with cryptos: 6401879.49\n"
     ]
    }
   ],
   "source": [
    "# Add crypto currencies\n",
    "my_portfolio.add('ETH', 32.9123, tags={'CRYPTOS'})\n",
    "my_portfolio.add('BTC', 2.2347, tags={'CRYPTOS'})\n",
    "my_portfolio.add('DOT', 1214.4988, tags={'CRYPTOS'})\n",
    "with_cryptos = PortfolioValuator(portfolio=my_portfolio).get_valuation(date.fromisoformat(\"2022-11-27\"))\n",
    "# Explicitly value the crypto positions\n",
    "crypto_portfolio = my_portfolio.create(name=\"CRYPTOS\", tags={'CRYPTOS'})\n",
    "crypto_value=PortfolioValuator(portfolio=crypto_portfolio).get_valuation(date.fromisoformat(\"2022-11-27\"))\n",
    "print(\"Cryptos are valued at: {cryptos:.2f}\".format(cryptos=crypto_value)) \n",
    "print(\"Portfolio valuation with cryptos: {with_cryptos:.2f}\".format(with_cryptos=with_cryptos))"
   ]
  },
  {
   "cell_type": "code",
   "execution_count": 26,
   "id": "9ff555f4-fb29-452b-80c7-225492ae70cd",
   "metadata": {},
   "outputs": [
    {
     "name": "stdout",
     "output_type": "stream",
     "text": [
      "6454778.348888546\n"
     ]
    }
   ],
   "source": [
    "# Add dept owners to me\n",
    "my_portfolio.add('CHF', 50000) # DEBTORS\n",
    "with_deptors = PortfolioValuator(portfolio=my_portfolio).get_valuation(date.fromisoformat(\"2022-11-27\"))\n",
    "print(with_deptors)"
   ]
  },
  {
   "cell_type": "code",
   "execution_count": 27,
   "id": "685871e0-51a6-4efa-b58a-beeae116d961",
   "metadata": {},
   "outputs": [
    {
     "name": "stdout",
     "output_type": "stream",
     "text": [
      "6901776.700196232\n"
     ]
    }
   ],
   "source": [
    "# Add swissquote account\n",
    "my_portfolio.add('EUR', 1462.32, tags={'SWISSQUOTE'})\n",
    "my_portfolio.add('USD', 165928.14, tags={'SWISSQUOTE'})\n",
    "my_portfolio.buy('IPRP.SW', 235, tags={'SWISSQUOTE'})\n",
    "my_portfolio.buy('VUSA.SW', 800, tags={'SWISSQUOTE'})\n",
    "my_portfolio.buy('WSRUSA.SW', 489, tags={'SWISSQUOTE'})\n",
    "my_portfolio.buy('EFA', 428, tags={'SWISSQUOTE'})\n",
    "my_portfolio.buy('LCTU', 428, tags={'SWISSQUOTE'})\n",
    "my_portfolio.buy('BCHN.LSE', 460, tags={'SWISSQUOTE'})\n",
    "my_portfolio.buy('STLA.PA', 2923, tags={'SWISSQUOTE'})\n",
    "my_portfolio.buy('C40.PA', 320, tags={'SWISSQUOTE'})\n",
    "with_swissquote = PortfolioValuator(portfolio=my_portfolio).get_valuation(date.fromisoformat(\"2022-11-27\"))\n",
    "print(with_swissquote)"
   ]
  },
  {
   "cell_type": "code",
   "execution_count": 28,
   "id": "dfca655b-9b7a-401a-9062-2a05b9ca0d6f",
   "metadata": {},
   "outputs": [
    {
     "name": "stdout",
     "output_type": "stream",
     "text": [
      "Value of the swissquote portfolio:446998.35 USD\n",
      "Value of the swissquote portfolio:422502.84 CHF\n"
     ]
    }
   ],
   "source": [
    "# Display the value of the swissquote portfolio independently\n",
    "# First create a portfolio of the swissquote positions\n",
    "swissquote = my_portfolio.create(\"My Swissquote Portfolio\",tags={'SWISSQUOTE'})\n",
    "portfolio_value = PortfolioValuator(portfolio=swissquote).get_valuation(date(2022,11,27))\n",
    "print(\"Value of the swissquote portfolio:{value:.2f} USD\".format(value=portfolio_value))\n",
    "# Now get it  in CHF\n",
    "portfolio_value = PortfolioValuator(portfolio=swissquote).get_valuation(date(2022,11,27), ccy='CHF')\n",
    "print(\"Value of the swissquote portfolio:{value:.2f} CHF\".format(value=portfolio_value))"
   ]
  },
  {
   "cell_type": "code",
   "execution_count": 29,
   "id": "42dc24b5-96e6-43cd-85c7-182c58b46b55",
   "metadata": {},
   "outputs": [
    {
     "name": "stdout",
     "output_type": "stream",
     "text": [
      "7188483.507473848\n"
     ]
    }
   ],
   "source": [
    "# Add life insurance contracts\n",
    "my_portfolio.add('EUR', 162045, tags={'LIFE INSURANCE'})\n",
    "my_portfolio.add('EUR', 75532, tags={'LIFE INSURANCE'})\n",
    "my_portfolio.add('CHF', 28724, tags={'LIFE INSURANCE'})\n",
    "my_portfolio.add('CHF', 8916, tags={'LIFE INSURANCE'})\n",
    "with_insurance = PortfolioValuator(portfolio=my_portfolio).get_valuation(date(2022,11,27))\n",
    "print(with_insurance)"
   ]
  },
  {
   "cell_type": "code",
   "execution_count": 31,
   "id": "5d6f3f7e-73ca-4fba-b4d6-5bcf6f8fc5b0",
   "metadata": {},
   "outputs": [
    {
     "name": "stdout",
     "output_type": "stream",
     "text": [
      "Total portfolio value in USD: 7243878.13\n",
      "Total portfolio value in EUR: 6970783.93\n",
      "Total portfolio value in CHF: 6846913.61\n"
     ]
    }
   ],
   "source": [
    "# Add Paris investments\n",
    "my_portfolio.buy('ACWI.PA', 76, tags={'FRANCE'})\n",
    "total_portfolio_value_usd = PortfolioValuator(portfolio=my_portfolio).get_valuation(date(2022,11,27))\n",
    "total_portfolio_value_eur = PortfolioValuator(portfolio=my_portfolio).get_valuation(date(2022,11,27),ccy=\"EUR\")\n",
    "total_portfolio_value_chf = PortfolioValuator(portfolio=my_portfolio).get_valuation(date(2022,11,27),ccy=\"CHF\")\n",
    "print(\"Total portfolio value in USD: {usd:.2f}\".format(usd=total_portfolio_value_usd))\n",
    "print(\"Total portfolio value in EUR: {eur:.2f}\".format(eur=total_portfolio_value_eur))\n",
    "print(\"Total portfolio value in CHF: {chf:.2f}\".format(chf=total_portfolio_value_chf))\n",
    "#Check if currency conversion is done right\n"
   ]
  }
 ],
 "metadata": {
  "kernelspec": {
   "display_name": "Python 3 (ipykernel)",
   "language": "python",
   "name": "python3"
  },
  "language_info": {
   "codemirror_mode": {
    "name": "ipython",
    "version": 3
   },
   "file_extension": ".py",
   "mimetype": "text/x-python",
   "name": "python",
   "nbconvert_exporter": "python",
   "pygments_lexer": "ipython3",
   "version": "3.10.5"
  }
 },
 "nbformat": 4,
 "nbformat_minor": 5
}
