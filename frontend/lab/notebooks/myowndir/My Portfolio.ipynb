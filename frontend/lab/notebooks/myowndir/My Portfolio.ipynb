{
 "cells": [
  {
   "cell_type": "code",
   "execution_count": 1,
   "id": "f4683ac4-e461-4a82-98d5-7c03ad92ca9c",
   "metadata": {},
   "outputs": [
    {
     "data": {
      "text/plain": [
       "6495889.522064209"
      ]
     },
     "execution_count": 1,
     "metadata": {},
     "output_type": "execute_result"
    }
   ],
   "source": [
    "from Portfolios import Portfolio, PortfolioValuator\n",
    "from TimeSeries import TimeSeries\n",
    "import numpy as npplt\n",
    "import pandas as pd\n",
    "import matplotlib.pyplot as plt \n",
    "from datetime import date\n",
    "\n",
    "\n",
    "my_portfolio:Portfolio = Portfolio()\n",
    "my_portfolio.buy('MSCI', 2578, tags={'PERFORMANCE SHARES'}) #Performance shares\n",
    "my_portfolio.buy('MSCI', 3916, tags={'RESTRICTED SHARES'}) #Restricted shares\n",
    "my_portfolio.buy('MSCI', 3916, tags={'STOCK OPTIONS'}) #Stock options\n",
    "my_portfolio.buy('MSCI', 807, tags={'BROADRIDGE SHARES'})  #Bradridge shares\n",
    "my_portfolio.buy('MSCI', 3000, tags={'MORGAN STANLEY SHARES'})  #Bradridge shares\n",
    "v:PortfolioValuator = PortfolioValuator(portfolio=my_portfolio)\n",
    "# Value the MSCI stocks\n",
    "msci_stocks = v.get_valuation(date.fromisoformat(\"2022-09-01\"))"
   ]
  },
  {
   "cell_type": "code",
   "execution_count": 2,
   "id": "2bc778e8-b318-4fe5-b816-3deef619c52b",
   "metadata": {},
   "outputs": [
    {
     "data": {
      "text/plain": [
       "470575.4347788263"
      ]
     },
     "execution_count": 2,
     "metadata": {},
     "output_type": "execute_result"
    }
   ],
   "source": [
    "#Add cash\n",
    "my_portfolio.add('CHF', 14845)  # BCGE\n",
    "my_portfolio.add('EUR', 5604)   # N26\n",
    "my_portfolio.add('EUR', 1169)   # Boursorama\n",
    "my_portfolio.add('CHF', 401598) # UBS\n",
    "my_portfolio.add('CHF', 37640)  # Liechsteinstein\n",
    "with_cash = PortfolioValuator(portfolio=my_portfolio).get_valuation(date.fromisoformat(\"2022-09-01\"))"
   ]
  },
  {
   "cell_type": "code",
   "execution_count": 3,
   "id": "934acdb8-e25e-41f6-81af-2ce750308ce6",
   "metadata": {},
   "outputs": [
    {
     "data": {
      "text/plain": [
       "105911.05855360348"
      ]
     },
     "execution_count": 3,
     "metadata": {},
     "output_type": "execute_result"
    }
   ],
   "source": [
    "# Add crypto currencies\n",
    "my_portfolio.add('ETH', 32.9123, tags={'CRYPTOS'})\n",
    "my_portfolio.add('BTC', 2.2347, tags={'CRYPTOS'})\n",
    "my_portfolio.add('DOT', 1214.4988, tags={'CRYPTOS'})\n",
    "with_cryptos = PortfolioValuator(portfolio=my_portfolio).get_valuation(date.fromisoformat(\"2022-09-01\"))"
   ]
  },
  {
   "cell_type": "code",
   "execution_count": 4,
   "id": "bf0a3baf-ff55-4b95-876e-234d6245aa0f",
   "metadata": {},
   "outputs": [],
   "source": [
    "my_portfolio.add('CHF', 50000) # DEBTORS"
   ]
  },
  {
   "cell_type": "code",
   "execution_count": 5,
   "id": "da37d151-5034-4b08-9b7c-e02ff4794db5",
   "metadata": {},
   "outputs": [
    {
     "data": {
      "text/plain": [
       "7123443.322106883"
      ]
     },
     "execution_count": 5,
     "metadata": {},
     "output_type": "execute_result"
    }
   ],
   "source": [
    "with_deptors = PortfolioValuator(portfolio=my_portfolio).get_valuation(date.fromisoformat(\"2022-09-01\"))"
   ]
  },
  {
   "cell_type": "code",
   "execution_count": null,
   "id": "685871e0-51a6-4efa-b58a-beeae116d961",
   "metadata": {},
   "outputs": [],
   "source": [
    "# Add swissquote account\n",
    "my_portfolio.add('EUR', 1462.32, tags={'SWISSQUOTE'})\n",
    "my_portfolio.add('USD', 165928,14, tags={'SWISSQUOTE'})\n",
    "my_portfolio."
   ]
  }
 ],
 "metadata": {
  "kernelspec": {
   "display_name": "Python 3 (ipykernel)",
   "language": "python",
   "name": "python3"
  },
  "language_info": {
   "codemirror_mode": {
    "name": "ipython",
    "version": 3
   },
   "file_extension": ".py",
   "mimetype": "text/x-python",
   "name": "python",
   "nbconvert_exporter": "python",
   "pygments_lexer": "ipython3",
   "version": "3.10.5"
  }
 },
 "nbformat": 4,
 "nbformat_minor": 5
}
