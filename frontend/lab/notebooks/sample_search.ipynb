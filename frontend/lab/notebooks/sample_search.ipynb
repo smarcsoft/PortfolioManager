{
 "cells": [
  {
   "cell_type": "code",
   "execution_count": 1,
   "id": "078202da-a442-4a31-b49b-9f6f04cac9e0",
   "metadata": {},
   "outputs": [
    {
     "data": {
      "text/plain": [
       "[Ticker AMZN for Amazon.com Inc with isin US0231351067,\n",
       " Ticker AZFL for Amazonas Florestal Ltd with isin US02314H2085]"
      ]
     },
     "execution_count": 1,
     "metadata": {},
     "output_type": "execute_result"
    }
   ],
   "source": [
    "# Demonstrates search capabilities for common stocks and funds\n",
    "from pmdata import search\n",
    "\n",
    "# Search common stocks containing amazon in their name\n",
    "search('AMAZON')\n"
   ]
  },
  {
   "cell_type": "code",
   "execution_count": 4,
   "id": "1a8a0290-1189-4f5f-b423-17f61f85b5df",
   "metadata": {},
   "outputs": [
    {
     "data": {
      "text/plain": [
       "[Ticker AFMCX for ACUITAS US MICROCAP FUND INSTITUTIONAL SHARES with isin US34984Y8075,\n",
       " Ticker ANCIX for ANCORA MICROCAP FUND CLASS I with isin None,\n",
       " Ticker DFSCX for U.S. MICRO CAP PORTFOLIO U.S. MICRO CAP PORTFOLIO - INSTITUTIONAL CLASS with isin US2332035045,\n",
       " Ticker DMCRX for DRIEHAUS MICRO CAP GROWTH FUND DRIEHAUS MICRO CAP GROWTH FUND with isin US2620287985,\n",
       " Ticker FHCOX for Federated Hermes Conservative Microshort Fund Institutional Shares with isin None,\n",
       " Ticker FHMIX for Federated Hermes Conservative Municipal Microshort Fund Institutional Shares with isin None,\n",
       " Ticker FMCVX for FRANKLIN MICROCAP VALUE FUND CLASS R6 with isin None,\n",
       " Ticker FRMCX for FRANKLIN MICROCAP VALUE FUND CLASS A with isin US3551482066,\n",
       " Ticker FTMSX for FULLER THALER BEHAVIORAL MICROCAP EQUITY FUND INSTITUTIONAL SHARES with isin None,\n",
       " Ticker FVRMX for FRANKLIN MICROCAP VALUE FUND ADVISOR CLASS with isin None,\n",
       " Ticker GPMCX for GRANDEUR PEAK GLOBAL MICRO CAP FUND INSTITUTIONAL CLASS with isin None,\n",
       " Ticker JMCGX for JACOB MICRO CAP GROWTH FUND INVESTOR CLASS with isin None,\n",
       " Ticker JMCRX for JAMES MICRO CAP FUND JAMES MICRO CAP FUND with isin None,\n",
       " Ticker JMIGX for JACOB MICRO CAP GROWTH FUND INSTITUTIONAL CLASS with isin None,\n",
       " Ticker LAMGX for Lord Abbett Micro Cap Growth Fund Class A with isin None,\n",
       " Ticker LCMGX for Lord Abbett Micro Cap Growth Fund Class C with isin None,\n",
       " Ticker LFMGX for Lord Abbett Micro Cap Growth Fund Class F with isin None,\n",
       " Ticker LMIYX for LORD ABBETT MICRO-CAP GROWTH FUND CLASS I with isin US54400V1044,\n",
       " Ticker LMVYX for LORD ABBETT MICRO-CAP VALUE FUND CLASS I with isin US54400W1027,\n",
       " Ticker NSMVX for NORTH STAR MICRO CAP FUND NORTH STAR MICRO CAP FUND CLASS I SHARES with isin US66538A2996,\n",
       " Ticker OBMCX for OBERWEIS MICRO-CAP FUND OBERWEIS MICRO-CAP FUND with isin None,\n",
       " Ticker OMCIX for OBERWEIS MICRO-CAP FUND INSTITUTIONAL CLASS with isin None,\n",
       " Ticker PRCGX for PERRITT MICROCAP OPPORTUNITIES FUND INVESTOR CLASS with isin US7144022032,\n",
       " Ticker PREOX for PERRITT ULTRA MICROCAP FUND INVESTOR CLASS with isin None,\n",
       " Ticker PVIVX for PARADIGM MICRO-CAP FUND PARADIGM MICRO-CAP FUND with isin None,\n",
       " Ticker RCMCX for ROYCE CAPITAL FUND - MICRO-CAP PORTFOLIO INVESTMENT CLASS with isin None,\n",
       " Ticker RCMSX for ROYCE CAPITAL FUND - MICRO-CAP PORTFOLIO SERVICE CLASS with isin None,\n",
       " Ticker RFIMX for Ranger Micro Cap Fund Institutional Class with isin None,\n",
       " Ticker RHJSX for RICE HALL JAMES MICRO CAP PORTFOLIO INSTITUTIONAL CLASS SHARES with isin None,\n",
       " Ticker RMCFX for ROYCE MICRO-CAP FUND SERVICE CLASS with isin None,\n",
       " Ticker RMVIX for RBC MICROCAP VALUE FUND I SHARES with isin US74926P3652,\n",
       " Ticker RYMCX for ROYCE MICRO-CAP FUND CONSULTANT CLASS with isin None,\n",
       " Ticker RYOTX for ROYCE MICRO-CAP FUND INVESTMENT CLASS with isin US7809057091,\n",
       " Ticker THBIX for THOMSON HORTSMANN & BRYANT MICROCAP FUND INSTITUTIONAL CLASS SHARES with isin None,\n",
       " Ticker THBVX for THOMSON HORTSMANN & BRYANT MICROCAP FUND INVESTOR CLASS SHARES with isin None,\n",
       " Ticker TMVAX for RBC MICROCAP VALUE FUND A SHARES with isin None,\n",
       " Ticker WAMVX for WASATCH MICRO CAP VALUE FUND INVESTOR CLASS SHARES with isin US9367935049,\n",
       " Ticker WGICX for Wasatch Micro Cap Fund Institutional Class Shares with isin None,\n",
       " Ticker WGMVX for Wasatch Micro Cap Value Fund Institutional Class Shares with isin None,\n",
       " Ticker WMICX for WASATCH MICRO CAP FUND INVESTOR CLASS SHARES with isin US9367725085,\n",
       " Ticker WPGTX for WPG PARTNERS SMALL/MICRO CAP VALUE FUND INSTITUTIONAL with isin None,\n",
       " Ticker XOTCX for Royce Micro-Cap Trust  Inc with isin None]"
      ]
     },
     "execution_count": 4,
     "metadata": {},
     "output_type": "execute_result"
    }
   ],
   "source": [
    "from pmdata import search\n",
    "\n",
    "# Search funds containing micro in their names\n",
    "search('MICRO', type='Fund')"
   ]
  },
  {
   "cell_type": "code",
   "execution_count": null,
   "id": "fffa72e3-f8fe-4ea8-862d-4f5075987648",
   "metadata": {},
   "outputs": [],
   "source": []
  }
 ],
 "metadata": {
  "kernelspec": {
   "display_name": "Python 3 (ipykernel)",
   "language": "python",
   "name": "python3"
  },
  "language_info": {
   "codemirror_mode": {
    "name": "ipython",
    "version": 3
   },
   "file_extension": ".py",
   "mimetype": "text/x-python",
   "name": "python",
   "nbconvert_exporter": "python",
   "pygments_lexer": "ipython3",
   "version": "3.10.5"
  }
 },
 "nbformat": 4,
 "nbformat_minor": 5
}
