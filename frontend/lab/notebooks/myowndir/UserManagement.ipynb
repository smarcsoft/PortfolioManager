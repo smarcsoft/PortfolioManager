{
 "cells": [
  {
   "cell_type": "code",
   "execution_count": 1,
   "id": "ed8811e5-38f6-44fd-bb39-68c8748b8fd9",
   "metadata": {},
   "outputs": [
    {
     "data": {
      "text/plain": [
       "{'first_name': 'Sebastien',\n",
       " 'last_name': 'Marc',\n",
       " 'email': 'smarc@smarcsoft.com'}"
      ]
     },
     "execution_count": 1,
     "metadata": {},
     "output_type": "execute_result"
    }
   ],
   "source": [
    "from Session import create_user\n",
    "\n",
    "create_user(\"Sebastien\", \"Marc\", \"smarc@smarcsoft.com\")"
   ]
  }
 ],
 "metadata": {
  "kernelspec": {
   "display_name": "Python 3 (ipykernel)",
   "language": "python",
   "name": "python3"
  },
  "language_info": {
   "codemirror_mode": {
    "name": "ipython",
    "version": 3
   },
   "file_extension": ".py",
   "mimetype": "text/x-python",
   "name": "python",
   "nbconvert_exporter": "python",
   "pygments_lexer": "ipython3",
   "version": "3.10.5"
  }
 },
 "nbformat": 4,
 "nbformat_minor": 5
}
