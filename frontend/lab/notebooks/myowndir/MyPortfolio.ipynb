{
 "cells": [
  {
   "cell_type": "code",
   "execution_count": 65,
   "id": "f4683ac4-e461-4a82-98d5-7c03ad92ca9c",
   "metadata": {},
   "outputs": [
    {
     "name": "stdout",
     "output_type": "stream",
     "text": [
      "Value of the MSCI stocks: 7282800.558837891 USD\n"
     ]
    }
   ],
   "source": [
    "from Portfolios import Portfolio, PortfolioValuator\n",
    "from TimeSeries import TimeSeries\n",
    "import numpy as npplt\n",
    "import pandas as pd\n",
    "import matplotlib.pyplot as plt \n",
    "from datetime import date\n",
    "\n",
    "\n",
    "my_portfolio:Portfolio = Portfolio()\n",
    "my_portfolio.buy('MSCI', 2578, tags={'PERFORMANCE SHARES'}) #Performance shares\n",
    "my_portfolio.buy('MSCI', 3916, tags={'RESTRICTED SHARES'}) #Restricted shares\n",
    "my_portfolio.buy('MSCI', 3916, tags={'STOCK OPTIONS'}) #Stock options\n",
    "my_portfolio.buy('MSCI', 807, tags={'BROADRIDGE SHARES'})  #Bradridge shares\n",
    "my_portfolio.buy('MSCI', 3000, tags={'MORGAN STANLEY SHARES'})  #Bradridge shares\n",
    "v:PortfolioValuator = PortfolioValuator(portfolio=my_portfolio)\n",
    "# Value the MSCI stocks\n",
    "msci_stocks = v.get_valuation(date.fromisoformat(\"2022-11-27\"))\n",
    "print(\"Value of the MSCI stocks: {msci_stocks} USD\".format(msci_stocks=msci_stocks))"
   ]
  },
  {
   "cell_type": "code",
   "execution_count": 66,
   "id": "2bc778e8-b318-4fe5-b816-3deef619c52b",
   "metadata": {},
   "outputs": [
    {
     "name": "stdout",
     "output_type": "stream",
     "text": [
      "7770248.341624309\n"
     ]
    }
   ],
   "source": [
    "#Add cash\n",
    "my_portfolio.add('CHF', 14845)  # BCGE\n",
    "my_portfolio.add('EUR', 5604)   # N26\n",
    "my_portfolio.add('EUR', 1169)   # Boursorama\n",
    "my_portfolio.add('CHF', 401598) # UBS\n",
    "my_portfolio.add('CHF', 37640)  # Liechsteinstein\n",
    "with_cash = PortfolioValuator(portfolio=my_portfolio).get_valuation(date.fromisoformat(\"2022-11-27\"))\n",
    "print(with_cash)"
   ]
  },
  {
   "cell_type": "code",
   "execution_count": 67,
   "id": "934acdb8-e25e-41f6-81af-2ce750308ce6",
   "metadata": {},
   "outputs": [
    {
     "name": "stdout",
     "output_type": "stream",
     "text": [
      "7852767.06831153\n"
     ]
    }
   ],
   "source": [
    "# Add crypto currencies\n",
    "my_portfolio.add('ETH', 32.9123, tags={'CRYPTOS'})\n",
    "my_portfolio.add('BTC', 2.2347, tags={'CRYPTOS'})\n",
    "my_portfolio.add('DOT', 1214.4988, tags={'CRYPTOS'})\n",
    "with_cryptos = PortfolioValuator(portfolio=my_portfolio).get_valuation(date.fromisoformat(\"2022-11-27\"))\n",
    "print(with_cryptos)"
   ]
  },
  {
   "cell_type": "code",
   "execution_count": 68,
   "id": "9ff555f4-fb29-452b-80c7-225492ae70cd",
   "metadata": {},
   "outputs": [
    {
     "name": "stdout",
     "output_type": "stream",
     "text": [
      "7905665.92569621\n"
     ]
    }
   ],
   "source": [
    "# Add dept owners to me\n",
    "my_portfolio.add('CHF', 50000) # DEBTORS\n",
    "with_deptors = PortfolioValuator(portfolio=my_portfolio).get_valuation(date.fromisoformat(\"2022-11-27\"))\n",
    "print(with_deptors)"
   ]
  },
  {
   "cell_type": "code",
   "execution_count": 69,
   "id": "685871e0-51a6-4efa-b58a-beeae116d961",
   "metadata": {},
   "outputs": [
    {
     "name": "stdout",
     "output_type": "stream",
     "text": [
      "8352664.2770038955\n"
     ]
    }
   ],
   "source": [
    "# Add swissquote account\n",
    "my_portfolio.add('EUR', 1462.32, tags={'SWISSQUOTE'})\n",
    "my_portfolio.add('USD', 165928.14, tags={'SWISSQUOTE'})\n",
    "my_portfolio.buy('IPRP.SW', 235, tags={'SWISSQUOTE'})\n",
    "my_portfolio.buy('VUSA.SW', 800, tags={'SWISSQUOTE'})\n",
    "my_portfolio.buy('WSRUSA.SW', 489, tags={'SWISSQUOTE'})\n",
    "my_portfolio.buy('EFA', 428, tags={'SWISSQUOTE'})\n",
    "my_portfolio.buy('LCTU', 428, tags={'SWISSQUOTE'})\n",
    "my_portfolio.buy('BCHN.LSE', 460, tags={'SWISSQUOTE'})\n",
    "my_portfolio.buy('STLA.PA', 2923, tags={'SWISSQUOTE'})\n",
    "my_portfolio.buy('C40.PA', 320, tags={'SWISSQUOTE'})\n",
    "with_swissquote = PortfolioValuator(portfolio=my_portfolio).get_valuation(date.fromisoformat(\"2022-11-27\"))\n",
    "print(with_swissquote)"
   ]
  },
  {
   "cell_type": "code",
   "execution_count": 70,
   "id": "dfca655b-9b7a-401a-9062-2a05b9ca0d6f",
   "metadata": {},
   "outputs": [
    {
     "name": "stdout",
     "output_type": "stream",
     "text": [
      "Value of the swissquote portfolio:446998.35130768456 USD\n",
      "Value of the swissquote portfolio:422502.8416560235 CHF\n"
     ]
    }
   ],
   "source": [
    "# Display the value of the swissquote portfolio independently\n",
    "# First create a portfolio of the swissquote positions\n",
    "swissquote = my_portfolio.create(\"My Swissquote Portfolio\",tags={'SWISSQUOTE'})\n",
    "portfolio_value = PortfolioValuator(portfolio=swissquote).get_valuation(date(2022,11,27))\n",
    "print(\"Value of the swissquote portfolio:{value} USD\".format(value=portfolio_value))\n",
    "# Now get it  in CHF\n",
    "portfolio_value = PortfolioValuator(portfolio=swissquote).get_valuation(date(2022,11,27), ccy='CHF')\n",
    "print(\"Value of the swissquote portfolio:{value} CHF\".format(value=portfolio_value))"
   ]
  },
  {
   "cell_type": "code",
   "execution_count": 71,
   "id": "42dc24b5-96e6-43cd-85c7-182c58b46b55",
   "metadata": {},
   "outputs": [
    {
     "name": "stdout",
     "output_type": "stream",
     "text": [
      "8639371.084281513\n"
     ]
    }
   ],
   "source": [
    "# Add life insurance contracts\n",
    "my_portfolio.add('EUR', 162045, tags={'LIFE INSURANCE'})\n",
    "my_portfolio.add('EUR', 75532, tags={'LIFE INSURANCE'})\n",
    "my_portfolio.add('CHF', 28724, tags={'LIFE INSURANCE'})\n",
    "my_portfolio.add('CHF', 8916, tags={'LIFE INSURANCE'})\n",
    "with_insurance = PortfolioValuator(portfolio=my_portfolio).get_valuation(date.fromisoformat(\"2022-11-27\"))\n",
    "print(with_insurance)"
   ]
  },
  {
   "cell_type": "code",
   "execution_count": 72,
   "id": "5d6f3f7e-73ca-4fba-b4d6-5bcf6f8fc5b0",
   "metadata": {},
   "outputs": [
    {
     "name": "stdout",
     "output_type": "stream",
     "text": [
      "8667068.397374777\n"
     ]
    }
   ],
   "source": [
    "# Add Paris investments\n",
    "my_portfolio.buy('ACWI.PA', 76, tags={'FRANCE'})\n",
    "total_portfolio_value = PortfolioValuator(portfolio=my_portfolio).get_valuation(date.fromisoformat(\"2022-11-27\"))\n",
    "print(total_portfolio_value)"
   ]
  }
 ],
 "metadata": {
  "kernelspec": {
   "display_name": "Python 3 (ipykernel)",
   "language": "python",
   "name": "python3"
  },
  "language_info": {
   "codemirror_mode": {
    "name": "ipython",
    "version": 3
   },
   "file_extension": ".py",
   "mimetype": "text/x-python",
   "name": "python",
   "nbconvert_exporter": "python",
   "pygments_lexer": "ipython3",
   "version": "3.10.5"
  }
 },
 "nbformat": 4,
 "nbformat_minor": 5
}
