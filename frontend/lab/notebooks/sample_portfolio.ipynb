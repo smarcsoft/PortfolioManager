{
 "cells": [
  {
   "cell_type": "code",
   "execution_count": 1,
   "id": "078202da-a442-4a31-b49b-9f6f04cac9e0",
   "metadata": {},
   "outputs": [
    {
     "data": {
      "text/plain": [
       "Portfolio DEFAULT \n",
       "30 Equity Ticker MSFT for company UNKNOWN with isin UNKNOWN"
      ]
     },
     "execution_count": 1,
     "metadata": {},
     "output_type": "execute_result"
    }
   ],
   "source": [
    "# Sample portfolio\n",
    "# This sample code creates a portfolio with some undated transactions \n",
    "# We are demonstrating how shares are accumulated in the portfolio\n",
    "\n",
    "from Portfolios import *\n",
    "from TimeSeries import TimeSeries\n",
    "\n",
    "p:Portfolio = Portfolio()\n",
    "#Buying 10 shares of Microsoft\n",
    "p.buy('MSFT', 10)\n",
    "#Buying another 20 shares of Microsoft\n",
    "p.buy('MSFT', 20)\n",
    "# Display the resulting portfolio\n",
    "p"
   ]
  },
  {
   "cell_type": "code",
   "execution_count": 2,
   "id": "1c65d28e-4947-41dc-8b28-912747da8b6d",
   "metadata": {},
   "outputs": [
    {
     "data": {
      "text/plain": [
       "7811.999816894531"
      ]
     },
     "execution_count": 2,
     "metadata": {},
     "output_type": "execute_result"
    }
   ],
   "source": [
    "# Value the porfolio for a recent date\n",
    "p.valuator().get_valuation(date.fromisoformat(\"2022-09-01\"))"
   ]
  },
  {
   "cell_type": "code",
   "execution_count": 3,
   "id": "ccb461b4-503d-48fe-bae6-46d556cbac44",
   "metadata": {},
   "outputs": [
    {
     "data": {
      "text/plain": [
       "Portfolio Group My Investments containing 2 set(s) of portfolios: \n",
       "Set EQUITY PORTFOLIO GROUP:\n",
       "Portfolio DEFAULT \n",
       "30 Equity Ticker MSFT for company UNKNOWN with isin UNKNOWN\n",
       "Set CASH PORTFOLIO GROUP:\n",
       "Portfolio My cash \n",
       "67000 Cash USD\n",
       "480000 Cash CHF"
      ]
     },
     "execution_count": 3,
     "metadata": {},
     "output_type": "execute_result"
    }
   ],
   "source": [
    "# In this second example we are creating a group of portfolios.\n",
    "# Investments can be placed in different portfolios and we can report on the different portfolios separately and on the group of portfolios as well\n",
    "# This can be useful to manage and/or combine separate accounts\n",
    "\n",
    "pg:PortfolioGroup = PortfolioGroup(\"My Investments\")\n",
    "p2:Portfolio = Portfolio(\"My cash\")\n",
    "p2.add('USD', 67000)\n",
    "p2.add('CHF', 480000)\n",
    "pg.add(p,\"EQUITY PORTFOLIO GROUP\")\n",
    "pg.add(p2, \"CASH PORTFOLIO GROUP\")\n",
    "pg"
   ]
  },
  {
   "cell_type": "code",
   "execution_count": 4,
   "id": "0e717786-6d21-4bbf-856e-81bbf6053fa8",
   "metadata": {},
   "outputs": [
    {
     "data": {
      "text/plain": [
       "554811.9998168945"
      ]
     },
     "execution_count": 4,
     "metadata": {},
     "output_type": "execute_result"
    }
   ],
   "source": [
    "# I can value a portfolio or a group of portfolios\n",
    "pg.valuator().get_valuation(date.fromisoformat(\"2022-09-01\"))"
   ]
  },
  {
   "cell_type": "code",
   "execution_count": null,
   "id": "b9f68bec-68f4-4140-a6cf-7878404cdc8a",
   "metadata": {},
   "outputs": [],
   "source": []
  }
 ],
 "metadata": {
  "kernelspec": {
   "display_name": "Python 3 (ipykernel)",
   "language": "python",
   "name": "python3"
  },
  "language_info": {
   "codemirror_mode": {
    "name": "ipython",
    "version": 3
   },
   "file_extension": ".py",
   "mimetype": "text/x-python",
   "name": "python",
   "nbconvert_exporter": "python",
   "pygments_lexer": "ipython3",
   "version": "3.10.5"
  }
 },
 "nbformat": 4,
 "nbformat_minor": 5
}
