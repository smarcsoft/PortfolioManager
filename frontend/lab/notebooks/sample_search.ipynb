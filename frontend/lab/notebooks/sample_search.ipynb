{
 "cells": [
  {
   "cell_type": "code",
   "execution_count": 1,
   "id": "078202da-a442-4a31-b49b-9f6f04cac9e0",
   "metadata": {},
   "outputs": [
    {
     "data": {
      "text/plain": [
       "[Ticker 0R1O for company Amazon.com Inc. with isin UNKNOWN,\n",
       " Ticker AMZN for company Amazon.com Inc with isin US0231351067,\n",
       " Ticker AZFL for company Amazonas Florestal Ltd with isin US02314H2085]"
      ]
     },
     "execution_count": 1,
     "metadata": {},
     "output_type": "execute_result"
    }
   ],
   "source": [
    "# Demonstrates search capabilities for common stocks and funds\n",
    "from pmdata import search\n",
    "\n",
    "# Search common stocks containing amazon in their name\n",
    "search('AMAZON')\n"
   ]
  },
  {
   "cell_type": "code",
   "execution_count": 2,
   "id": "1a8a0290-1189-4f5f-b423-17f61f85b5df",
   "metadata": {},
   "outputs": [
    {
     "data": {
      "text/plain": [
       "[Ticker WAMVX for company WASATCH MICRO CAP VALUE FUND INVESTOR CLASS SHARES with isin US9367935049,\n",
       " Ticker WGICX for company Wasatch Micro Cap Fund Institutional Class Shares with isin UNKNOWN,\n",
       " Ticker WGMVX for company Wasatch Micro Cap Value Fund Institutional Class Shares with isin UNKNOWN,\n",
       " Ticker WMICX for company WASATCH MICRO CAP FUND INVESTOR CLASS SHARES with isin US9367725085,\n",
       " Ticker WPGTX for company WPG PARTNERS SMALL/MICRO CAP VALUE FUND INSTITUTIONAL with isin UNKNOWN,\n",
       " Ticker XOTCX for company Royce Micro-Cap Trust  Inc with isin UNKNOWN,\n",
       " Ticker LAMGX for company Lord Abbett Micro Cap Growth Fund Class A with isin UNKNOWN,\n",
       " Ticker LCMGX for company Lord Abbett Micro Cap Growth Fund Class C with isin UNKNOWN,\n",
       " Ticker LFMGX for company Lord Abbett Micro Cap Growth Fund Class F with isin UNKNOWN,\n",
       " Ticker DFSCX for company U.S. MICRO CAP PORTFOLIO U.S. MICRO CAP PORTFOLIO - INSTITUTIONAL CLASS with isin US2332035045,\n",
       " Ticker FMCVX for company FRANKLIN MICROCAP VALUE FUND CLASS R6 with isin UNKNOWN,\n",
       " Ticker LMIYX for company LORD ABBETT MICRO-CAP GROWTH FUND CLASS I with isin US54400V1044,\n",
       " Ticker DMCRX for company DRIEHAUS MICRO CAP GROWTH FUND DRIEHAUS MICRO CAP GROWTH FUND with isin US2620287985,\n",
       " Ticker LMVYX for company LORD ABBETT MICRO-CAP VALUE FUND CLASS I with isin US54400W1027,\n",
       " Ticker NSMVX for company NORTH STAR MICRO CAP FUND NORTH STAR MICRO CAP FUND CLASS I SHARES with isin US66538A2996,\n",
       " Ticker PRCGX for company PERRITT MICROCAP OPPORTUNITIES FUND INVESTOR CLASS with isin US7144022032,\n",
       " Ticker PREOX for company PERRITT ULTRA MICROCAP FUND INVESTOR CLASS with isin UNKNOWN,\n",
       " Ticker FRMCX for company FRANKLIN MICROCAP VALUE FUND CLASS A with isin US3551482066,\n",
       " Ticker CMCMX for company Conestoga Micro Cap Fund with isin UNKNOWN,\n",
       " Ticker AFMCX for company ACUITAS US MICROCAP FUND INSTITUTIONAL SHARES with isin US34984Y8075,\n",
       " Ticker CMIRX for company Conestoga Micro Cap Fund Institutional Class with isin UNKNOWN,\n",
       " Ticker OBMCX for company OBERWEIS MICRO-CAP FUND OBERWEIS MICRO-CAP FUND with isin UNKNOWN,\n",
       " Ticker FTMSX for company FULLER THALER BEHAVIORAL MICROCAP EQUITY FUND INSTITUTIONAL SHARES with isin UNKNOWN,\n",
       " Ticker PVIVX for company PARADIGM MICRO-CAP FUND PARADIGM MICRO-CAP FUND with isin UNKNOWN,\n",
       " Ticker FVRMX for company FRANKLIN MICROCAP VALUE FUND ADVISOR CLASS with isin UNKNOWN,\n",
       " Ticker OMCIX for company OBERWEIS MICRO-CAP FUND INSTITUTIONAL CLASS with isin UNKNOWN,\n",
       " Ticker ANCIX for company ANCORA MICROCAP FUND CLASS I with isin UNKNOWN,\n",
       " Ticker RCMCX for company ROYCE CAPITAL FUND - MICRO-CAP PORTFOLIO INVESTMENT CLASS with isin UNKNOWN,\n",
       " Ticker RCMSX for company ROYCE CAPITAL FUND - MICRO-CAP PORTFOLIO SERVICE CLASS with isin UNKNOWN,\n",
       " Ticker RFIMX for company Ranger Micro Cap Fund Institutional Class with isin UNKNOWN,\n",
       " Ticker THBIX for company THOMSON HORTSMANN & BRYANT MICROCAP FUND INSTITUTIONAL CLASS SHARES with isin UNKNOWN,\n",
       " Ticker THBVX for company THOMSON HORTSMANN & BRYANT MICROCAP FUND INVESTOR CLASS SHARES with isin UNKNOWN,\n",
       " Ticker RHJSX for company RICE HALL JAMES MICRO CAP PORTFOLIO INSTITUTIONAL CLASS SHARES with isin UNKNOWN,\n",
       " Ticker TMVAX for company RBC MICROCAP VALUE FUND A SHARES with isin UNKNOWN,\n",
       " Ticker GPMCX for company GRANDEUR PEAK GLOBAL MICRO CAP FUND INSTITUTIONAL CLASS with isin UNKNOWN,\n",
       " Ticker RMCFX for company ROYCE MICRO-CAP FUND SERVICE CLASS with isin UNKNOWN,\n",
       " Ticker RMVIX for company RBC MICROCAP VALUE FUND I SHARES with isin US74926P3652,\n",
       " Ticker RYMCX for company ROYCE MICRO-CAP FUND CONSULTANT CLASS with isin UNKNOWN,\n",
       " Ticker FHCOX for company Federated Hermes Conservative Microshort Fund Institutional Shares with isin UNKNOWN,\n",
       " Ticker RYOTX for company ROYCE MICRO-CAP FUND INVESTMENT CLASS with isin US7809057091,\n",
       " Ticker FHMIX for company Federated Hermes Conservative Municipal Microshort Fund Institutional Shares with isin UNKNOWN,\n",
       " Ticker JMCGX for company JACOB MICRO CAP GROWTH FUND INVESTOR CLASS with isin UNKNOWN,\n",
       " Ticker JMCRX for company JAMES MICRO CAP FUND JAMES MICRO CAP FUND with isin UNKNOWN,\n",
       " Ticker JMIGX for company JACOB MICRO CAP GROWTH FUND INSTITUTIONAL CLASS with isin UNKNOWN]"
      ]
     },
     "execution_count": 2,
     "metadata": {},
     "output_type": "execute_result"
    }
   ],
   "source": [
    "from pmdata import search\n",
    "\n",
    "# Search funds containing micro in their names\n",
    "search('MICRO', type='Fund')"
   ]
  },
  {
   "cell_type": "code",
   "execution_count": 3,
   "id": "fffa72e3-f8fe-4ea8-862d-4f5075987648",
   "metadata": {},
   "outputs": [
    {
     "name": "stdout",
     "output_type": "stream",
     "text": [
      "61 symbols found.\n"
     ]
    },
    {
     "data": {
      "text/plain": [
       "[Ticker 0IIR for company Essex Property Trust Inc. with isin UNKNOWN,\n",
       " Ticker 0L6P for company Simon Property Group Inc. with isin UNKNOWN,\n",
       " Ticker 0L9F for company Starwood Property Trust Inc. with isin UNKNOWN,\n",
       " Ticker 0NMO for company Corem Property Group AB Pfd. with isin UNKNOWN,\n",
       " Ticker 0QO8 for company PSP Swiss Property AG with isin UNKNOWN,\n",
       " Ticker 0QOJ for company Peach Property Group AG with isin UNKNOWN,\n",
       " Ticker 0R6H for company Care Property Invest N.V. with isin UNKNOWN,\n",
       " Ticker API for company abrdn Property Income Trust Ltd. with isin UNKNOWN,\n",
       " Ticker BCPT for company BMO Commercial Property Trust Ltd with isin GG00B4ZPCJ00,\n",
       " Ticker CDFF for company Cardiff Property PLC with isin GB0001754257,\n",
       " Ticker CRC for company Circle Property PLC with isin JE00BYP0CK63,\n",
       " Ticker CTPT for company CT PROPERTY TRUST LTD with isin UNKNOWN,\n",
       " Ticker ESP for company Empiric Student Property Plc with isin GB00BLWDVR75,\n",
       " Ticker FPO for company First Property Group plc with isin GB0004109889,\n",
       " Ticker LBOW for company ICG Longbow Senior Secured UK Property Debt Investments Ltd with isin GG00B8C23S81,\n",
       " Ticker LMP for company LondonMetric Property Plc with isin GB00B4WFW713,\n",
       " Ticker LSL for company LSL Property Services Plc with isin GB00B1G5HX72,\n",
       " Ticker MPO for company Macau Property Opportunities Fund Ltd with isin GG00BGDYFV61,\n",
       " Ticker PCTN for company Picton Property Income Ltd with isin GB00B0LCW208,\n",
       " Ticker TPFG for company Property Franchise Group PLC with isin GB00BH0WFH67,\n",
       " Ticker TRY for company TR Property Investment Trust plc with isin GB0009064097,\n",
       " Ticker UKCM for company UK Commercial Property Trust with isin GB00B19Z2J52,\n",
       " Ticker EPH for company EPH European Property Holdings Ltd with isin CY0109992111,\n",
       " Ticker PEAN for company Peach Property Group AG with isin CH0118530366,\n",
       " Ticker PSPN for company PSP Swiss Property AG with isin CH0018294154,\n",
       " Ticker UMRRF for company US Masters Residential Property Fund with isin UNKNOWN,\n",
       " Ticker BRX for company Brixmor Property with isin US11120U1051,\n",
       " Ticker KWIPF for company Kiwi Property Group Limited with isin UNKNOWN,\n",
       " Ticker PLFF for company Orpheum Property Inc with isin UNKNOWN,\n",
       " Ticker SHMAY for company Shimao Property Holdings Ltd ADR with isin US82454X1063,\n",
       " Ticker SIMEF for company Sime Darby Property Berhad with isin UNKNOWN,\n",
       " Ticker SIOPF for company Shimao Property Holdings Ltd with isin KYG810431042,\n",
       " Ticker LNSPF for company LondonMetric Property Plc with isin UNKNOWN,\n",
       " Ticker PPCCF for company PICC Property and Casualty Company Limited with isin UNKNOWN,\n",
       " Ticker PPCCY for company PICC Property and Casualty with isin US69338J1060,\n",
       " Ticker LSLPF for company LSL Property Services plc with isin UNKNOWN,\n",
       " Ticker FRMUF for company Firm Capital Property Trust with isin UNKNOWN,\n",
       " Ticker NTP for company Nam Tai Property Inc with isin US6298652057,\n",
       " Ticker PRRE for company Praetorian Property Inc with isin US73943L1008,\n",
       " Ticker PSAGW for company Property Solutions Acquisition Corp. II with isin UNKNOWN,\n",
       " Ticker PSAG for company Property Solutions Acquisition Corp II with isin US74350A1088,\n",
       " Ticker PSAGU for company Property Solutions Acquisition Corp II Unit with isin US74350A2078,\n",
       " Ticker SPGSW for company Simon Property Group Acquisition Holdings Inc with isin UNKNOWN,\n",
       " Ticker SPGS-UN for company Simon Property Group Acquisition Holdings Units with isin UNKNOWN,\n",
       " Ticker FSRPF for company Frasers Property Limited with isin UNKNOWN,\n",
       " Ticker SQFT for company Presidio Property Trust with isin US74102L3033,\n",
       " Ticker SQFTW for company Presidio Property Trust Inc. Series A Common Stock Purchase Warrants with isin UNKNOWN,\n",
       " Ticker PSPSY for company PSP Swiss Property AG with isin UNKNOWN,\n",
       " Ticker FTPM for company 420 Property Management Inc with isin US35104N1000,\n",
       " Ticker CNPPF for company China Overseas Property Holdings Limited with isin UNKNOWN,\n",
       " Ticker IGPYF for company Argosy Property Limited with isin UNKNOWN,\n",
       " Ticker CPT for company Camden Property Trust with isin US1331311027,\n",
       " Ticker STWD for company Starwood Property Trust Inc with isin US85571B1052,\n",
       " Ticker ESS for company Essex Property Trust Inc with isin US2971781057,\n",
       " Ticker EVGPF for company Evergrande Property Services Group Limited with isin UNKNOWN,\n",
       " Ticker PGRU for company PropertyGuru Group Ltd with isin KYG7258M1087,\n",
       " Ticker FCPT for company Four Corners Property Trust Inc with isin US35086T1097,\n",
       " Ticker PHKIF for company Poly Property Group Co. Limited with isin UNKNOWN,\n",
       " Ticker PINE for company Alpine Income Property Trust Inc with isin US02083X1037,\n",
       " Ticker TRPTF for company Tribe Property Technologies Inc with isin UNKNOWN,\n",
       " Ticker SCPAF for company Shopping Centres Australasia Property Group with isin UNKNOWN]"
      ]
     },
     "execution_count": 3,
     "metadata": {},
     "output_type": "execute_result"
    }
   ],
   "source": [
    "from pmdata import search\n",
    "list = search('Property')\n",
    "print(str(len(list)) + \" symbols found.\")\n",
    "list"
   ]
  },
  {
   "cell_type": "code",
   "execution_count": 4,
   "id": "83b78c1d-f75b-479e-a562-3bb599e794a9",
   "metadata": {},
   "outputs": [
    {
     "name": "stdout",
     "output_type": "stream",
     "text": [
      "36 symbols found.\n"
     ]
    },
    {
     "data": {
      "text/plain": [
       "[Ticker UMRRF for company US Masters Residential Property Fund with isin UNKNOWN,\n",
       " Ticker BRX for company Brixmor Property with isin US11120U1051,\n",
       " Ticker KWIPF for company Kiwi Property Group Limited with isin UNKNOWN,\n",
       " Ticker PLFF for company Orpheum Property Inc with isin UNKNOWN,\n",
       " Ticker SHMAY for company Shimao Property Holdings Ltd ADR with isin US82454X1063,\n",
       " Ticker SIMEF for company Sime Darby Property Berhad with isin UNKNOWN,\n",
       " Ticker SIOPF for company Shimao Property Holdings Ltd with isin KYG810431042,\n",
       " Ticker LNSPF for company LondonMetric Property Plc with isin UNKNOWN,\n",
       " Ticker PPCCF for company PICC Property and Casualty Company Limited with isin UNKNOWN,\n",
       " Ticker PPCCY for company PICC Property and Casualty with isin US69338J1060,\n",
       " Ticker LSLPF for company LSL Property Services plc with isin UNKNOWN,\n",
       " Ticker FRMUF for company Firm Capital Property Trust with isin UNKNOWN,\n",
       " Ticker NTP for company Nam Tai Property Inc with isin US6298652057,\n",
       " Ticker PRRE for company Praetorian Property Inc with isin US73943L1008,\n",
       " Ticker PSAGW for company Property Solutions Acquisition Corp. II with isin UNKNOWN,\n",
       " Ticker PSAG for company Property Solutions Acquisition Corp II with isin US74350A1088,\n",
       " Ticker PSAGU for company Property Solutions Acquisition Corp II Unit with isin US74350A2078,\n",
       " Ticker SPGSW for company Simon Property Group Acquisition Holdings Inc with isin UNKNOWN,\n",
       " Ticker SPGS-UN for company Simon Property Group Acquisition Holdings Units with isin UNKNOWN,\n",
       " Ticker FSRPF for company Frasers Property Limited with isin UNKNOWN,\n",
       " Ticker SQFT for company Presidio Property Trust with isin US74102L3033,\n",
       " Ticker SQFTW for company Presidio Property Trust Inc. Series A Common Stock Purchase Warrants with isin UNKNOWN,\n",
       " Ticker PSPSY for company PSP Swiss Property AG with isin UNKNOWN,\n",
       " Ticker FTPM for company 420 Property Management Inc with isin US35104N1000,\n",
       " Ticker CNPPF for company China Overseas Property Holdings Limited with isin UNKNOWN,\n",
       " Ticker IGPYF for company Argosy Property Limited with isin UNKNOWN,\n",
       " Ticker CPT for company Camden Property Trust with isin US1331311027,\n",
       " Ticker STWD for company Starwood Property Trust Inc with isin US85571B1052,\n",
       " Ticker ESS for company Essex Property Trust Inc with isin US2971781057,\n",
       " Ticker EVGPF for company Evergrande Property Services Group Limited with isin UNKNOWN,\n",
       " Ticker PGRU for company PropertyGuru Group Ltd with isin KYG7258M1087,\n",
       " Ticker FCPT for company Four Corners Property Trust Inc with isin US35086T1097,\n",
       " Ticker PHKIF for company Poly Property Group Co. Limited with isin UNKNOWN,\n",
       " Ticker PINE for company Alpine Income Property Trust Inc with isin US02083X1037,\n",
       " Ticker TRPTF for company Tribe Property Technologies Inc with isin UNKNOWN,\n",
       " Ticker SCPAF for company Shopping Centres Australasia Property Group with isin UNKNOWN]"
      ]
     },
     "execution_count": 4,
     "metadata": {},
     "output_type": "execute_result"
    }
   ],
   "source": [
    "from pmdata import search\n",
    "list = search('Property',\"US\") #Searches the US market only\n",
    "print(str(len(list)) + \" symbols found.\")\n",
    "list"
   ]
  },
  {
   "cell_type": "code",
   "execution_count": 5,
   "id": "8bf0eac7-f2f2-44ad-b20b-dcb33aaf7773",
   "metadata": {},
   "outputs": [
    {
     "name": "stdout",
     "output_type": "stream",
     "text": [
      "3 symbols found.\n"
     ]
    },
    {
     "data": {
      "text/plain": [
       "[Ticker ZIPTMX for company Jones Lang LaSalle Income Property Trust Inc. with isin UNKNOWN,\n",
       " Ticker ZRPTDX for company RREEF Property Trust - I with isin UNKNOWN,\n",
       " Ticker ZRPTUX for company RREEF Property Trust Inc. with isin UNKNOWN]"
      ]
     },
     "execution_count": 5,
     "metadata": {},
     "output_type": "execute_result"
    }
   ],
   "source": [
    "from pmdata import search\n",
    "list = search('Property',\"US\", \"Fund\") #Searches the US market only, funds only\n",
    "print(str(len(list)) + \" symbols found.\")\n",
    "list"
   ]
  },
  {
   "cell_type": "code",
   "execution_count": 6,
   "id": "717a4ddd-1317-4310-b748-79bfd44ff754",
   "metadata": {},
   "outputs": [
    {
     "data": {
      "text/plain": [
       "['Preferred Stock',\n",
       " 'INDEX',\n",
       " 'ETF',\n",
       " 'Common Stock',\n",
       " 'FUND',\n",
       " 'Note',\n",
       " 'ETC',\n",
       " 'Mutual Fund']"
      ]
     },
     "execution_count": 6,
     "metadata": {},
     "output_type": "execute_result"
    }
   ],
   "source": [
    "#Get the symbols types of the database\n",
    "from pmdata import init,get_symbol_types\n",
    "init()\n",
    "get_symbol_types()"
   ]
  },
  {
   "cell_type": "code",
   "execution_count": 7,
   "id": "a9ca583b-2855-4483-87d7-1e76e3f662c7",
   "metadata": {},
   "outputs": [
    {
     "data": {
      "text/plain": [
       "[Ticker FTPM for company 420 Property Management Inc with isin US35104N1000]"
      ]
     },
     "execution_count": 7,
     "metadata": {},
     "output_type": "execute_result"
    }
   ],
   "source": [
    "# Demonstrates how to search from an ISIN\n",
    "from pmdata import search_isin\n",
    "search_isin(\"US35104N1000\")"
   ]
  }
 ],
 "metadata": {
  "kernelspec": {
   "display_name": "Python 3 (ipykernel)",
   "language": "python",
   "name": "python3"
  },
  "language_info": {
   "codemirror_mode": {
    "name": "ipython",
    "version": 3
   },
   "file_extension": ".py",
   "mimetype": "text/x-python",
   "name": "python",
   "nbconvert_exporter": "python",
   "pygments_lexer": "ipython3",
   "version": "3.10.5"
  }
 },
 "nbformat": 4,
 "nbformat_minor": 5
}
