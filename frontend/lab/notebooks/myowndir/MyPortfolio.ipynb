{
 "cells": [
  {
   "cell_type": "code",
   "execution_count": 1,
   "id": "f4683ac4-e461-4a82-98d5-7c03ad92ca9c",
   "metadata": {},
   "outputs": [
    {
     "name": "stdout",
     "output_type": "stream",
     "text": [
      "Position MSCI.US of 2578 shares is valued at 1320606.31\n",
      "Position MSCI.US of 3916 shares is valued at 2006010.20\n",
      "Position MSCI.US of 1110 shares is valued at 568608.61\n",
      "Position MSCI.US of 807 shares is valued at 413393.83\n",
      "Position MSCI.US of 3000 shares is valued at 1536780.03\n",
      "Value of the MSCI stocks: 5845398.97 USD\n"
     ]
    }
   ],
   "source": [
    "from Portfolios import Portfolio, PortfolioValuator, PositionIdentifier, InstrumentValuator\n",
    "from PositionIdentifier import Currency\n",
    "from TimeSeries import TimeSeries\n",
    "import numpy as npplt\n",
    "import pandas as pd\n",
    "import matplotlib.pyplot as plt \n",
    "from datetime import date\n",
    "\n",
    "\n",
    "my_portfolio:Portfolio = Portfolio()\n",
    "my_portfolio.buy('MSCI', 2578, tags={'PERFORMANCE SHARES'}) #Performance shares\n",
    "my_portfolio.buy('MSCI', 3916, tags={'RESTRICTED SHARES'}) #Restricted shares\n",
    "my_portfolio.buy('MSCI', 1110, tags={'STOCK OPTIONS'}) #Stock options\n",
    "my_portfolio.buy('MSCI', 807, tags={'BROADRIDGE SHARES'})  #Bradridge shares\n",
    "my_portfolio.buy('MSCI', 3000, tags={'MORGAN STANLEY SHARES'})  #Bradridge shares\n",
    "v:PortfolioValuator = PortfolioValuator(portfolio=my_portfolio)\n",
    "# Get the valuation of each position in the portfolio\n",
    "for position_identifier in my_portfolio.get_positions():\n",
    "    position_valuator = InstrumentValuator.valuator(my_portfolio, position_identifier)\n",
    "    val = position_valuator.get_valuation(date(2022,11,27), Currency(\"USD\"))\n",
    "    print(\"Position {ticker} of {shares} shares is valued at {valuation:.2f}\".format(ticker=position_identifier.id.get_full_ticker(), shares=my_portfolio.get_position_amount(position_identifier), valuation=val))\n",
    "# Value the MSCI stocks\n",
    "msci_stocks = v.get_valuation(date.fromisoformat(\"2022-11-27\"))\n",
    "print(\"Value of the MSCI stocks: {msci_stocks:.2f} USD\".format(msci_stocks=msci_stocks))"
   ]
  },
  {
   "cell_type": "code",
   "execution_count": 2,
   "id": "2bc778e8-b318-4fe5-b816-3deef619c52b",
   "metadata": {},
   "outputs": [
    {
     "name": "stdout",
     "output_type": "stream",
     "text": [
      "6319360.764816645\n"
     ]
    }
   ],
   "source": [
    "#Add cash\n",
    "my_portfolio.add('CHF', 14845)  # BCGE\n",
    "my_portfolio.add('EUR', 2000)   # N26\n",
    "my_portfolio.add('EUR', 1169)   # Boursorama\n",
    "my_portfolio.add('CHF', 387798) # UBS\n",
    "my_portfolio.add('CHF', 42233)  # Liechsteinstein\n",
    "with_cash = PortfolioValuator(portfolio=my_portfolio).get_valuation(date.fromisoformat(\"2022-11-27\"))\n",
    "print(with_cash)"
   ]
  },
  {
   "cell_type": "code",
   "execution_count": 3,
   "id": "934acdb8-e25e-41f6-81af-2ce750308ce6",
   "metadata": {},
   "outputs": [
    {
     "name": "stdout",
     "output_type": "stream",
     "text": [
      "Cryptos are valued at: 82518.73\n",
      "Portfolio valuation with cryptos: 6401879.49\n"
     ]
    }
   ],
   "source": [
    "# Add crypto currencies\n",
    "my_portfolio.add('ETH', 32.9123, tags={'CRYPTOS'})\n",
    "my_portfolio.add('BTC', 2.2347, tags={'CRYPTOS'})\n",
    "my_portfolio.add('DOT', 1214.4988, tags={'CRYPTOS'})\n",
    "with_cryptos = PortfolioValuator(portfolio=my_portfolio).get_valuation(date.fromisoformat(\"2022-11-27\"))\n",
    "# Explicitly value the crypto positions\n",
    "crypto_portfolio = my_portfolio.create(name=\"CRYPTOS\", tags={'CRYPTOS'})\n",
    "crypto_value=PortfolioValuator(portfolio=crypto_portfolio).get_valuation(date.fromisoformat(\"2022-11-27\"))\n",
    "print(\"Cryptos are valued at: {cryptos:.2f}\".format(cryptos=crypto_value)) \n",
    "print(\"Portfolio valuation with cryptos: {with_cryptos:.2f}\".format(with_cryptos=with_cryptos))"
   ]
  },
  {
   "cell_type": "code",
   "execution_count": 4,
   "id": "9ff555f4-fb29-452b-80c7-225492ae70cd",
   "metadata": {},
   "outputs": [
    {
     "name": "stdout",
     "output_type": "stream",
     "text": [
      "6454778.348888546\n"
     ]
    }
   ],
   "source": [
    "# Add dept owners to me\n",
    "my_portfolio.add('CHF', 50000) # DEBTORS\n",
    "with_deptors = PortfolioValuator(portfolio=my_portfolio).get_valuation(date.fromisoformat(\"2022-11-27\"))\n",
    "print(with_deptors)"
   ]
  },
  {
   "cell_type": "code",
   "execution_count": 5,
   "id": "685871e0-51a6-4efa-b58a-beeae116d961",
   "metadata": {},
   "outputs": [
    {
     "name": "stdout",
     "output_type": "stream",
     "text": [
      "6901776.700196232\n"
     ]
    }
   ],
   "source": [
    "# Add swissquote account\n",
    "my_portfolio.add('EUR', 1462.32, tags={'SWISSQUOTE'})\n",
    "my_portfolio.add('USD', 165928.14, tags={'SWISSQUOTE'})\n",
    "my_portfolio.buy('IPRP.SW', 235, tags={'SWISSQUOTE'})\n",
    "my_portfolio.buy('VUSA.SW', 800, tags={'SWISSQUOTE'})\n",
    "my_portfolio.buy('WSRUSA.SW', 489, tags={'SWISSQUOTE'})\n",
    "my_portfolio.buy('EFA', 428, tags={'SWISSQUOTE'})\n",
    "my_portfolio.buy('LCTU', 428, tags={'SWISSQUOTE'})\n",
    "my_portfolio.buy('BCHN.LSE', 460, tags={'SWISSQUOTE'})\n",
    "my_portfolio.buy('STLA.PA', 2923, tags={'SWISSQUOTE'})\n",
    "my_portfolio.buy('C40.PA', 320, tags={'SWISSQUOTE'})\n",
    "with_swissquote = PortfolioValuator(portfolio=my_portfolio).get_valuation(date.fromisoformat(\"2022-11-27\"))\n",
    "print(with_swissquote)"
   ]
  },
  {
   "cell_type": "code",
   "execution_count": 6,
   "id": "dfca655b-9b7a-401a-9062-2a05b9ca0d6f",
   "metadata": {},
   "outputs": [
    {
     "name": "stdout",
     "output_type": "stream",
     "text": [
      "Value of the swissquote portfolio:446998.35 USD\n",
      "Value of the swissquote portfolio:422502.84 CHF\n"
     ]
    }
   ],
   "source": [
    "# Display the value of the swissquote portfolio independently\n",
    "# First create a portfolio of the swissquote positions\n",
    "swissquote = my_portfolio.create(\"My Swissquote Portfolio\",tags={'SWISSQUOTE'})\n",
    "portfolio_value = PortfolioValuator(portfolio=swissquote).get_valuation(date(2022,11,27))\n",
    "print(\"Value of the swissquote portfolio:{value:.2f} USD\".format(value=portfolio_value))\n",
    "# Now get it  in CHF\n",
    "portfolio_value = PortfolioValuator(portfolio=swissquote).get_valuation(date(2022,11,27), ccy='CHF')\n",
    "print(\"Value of the swissquote portfolio:{value:.2f} CHF\".format(value=portfolio_value))"
   ]
  },
  {
   "cell_type": "code",
   "execution_count": 7,
   "id": "42dc24b5-96e6-43cd-85c7-182c58b46b55",
   "metadata": {},
   "outputs": [
    {
     "name": "stdout",
     "output_type": "stream",
     "text": [
      "7188483.507473848\n"
     ]
    }
   ],
   "source": [
    "# Add life insurance contracts\n",
    "my_portfolio.add('EUR', 162045, tags={'LIFE INSURANCE'})\n",
    "my_portfolio.add('EUR', 75532, tags={'LIFE INSURANCE'})\n",
    "my_portfolio.add('CHF', 28724, tags={'LIFE INSURANCE'})\n",
    "my_portfolio.add('CHF', 8916, tags={'LIFE INSURANCE'})\n",
    "with_insurance = PortfolioValuator(portfolio=my_portfolio).get_valuation(date(2022,11,27))\n",
    "print(with_insurance)"
   ]
  },
  {
   "cell_type": "code",
   "execution_count": 8,
   "id": "5d6f3f7e-73ca-4fba-b4d6-5bcf6f8fc5b0",
   "metadata": {},
   "outputs": [
    {
     "name": "stdout",
     "output_type": "stream",
     "text": [
      "Total portfolio value in USD: 7216180.82\n",
      "Total portfolio value in EUR: 6944130.80\n",
      "Total portfolio value in CHF: 6820734.11\n"
     ]
    }
   ],
   "source": [
    "# Add Paris investments\n",
    "my_portfolio.buy('ACWI.PA', 76, tags={'FRANCE'})\n",
    "total_portfolio_value_usd = PortfolioValuator(portfolio=my_portfolio).get_valuation(date(2022,11,27))\n",
    "total_portfolio_value_eur = PortfolioValuator(portfolio=my_portfolio).get_valuation(date(2022,11,27),ccy=\"EUR\")\n",
    "total_portfolio_value_chf = PortfolioValuator(portfolio=my_portfolio).get_valuation(date(2022,11,27),ccy=\"CHF\")\n",
    "print(\"Total portfolio value in USD: {usd:.2f}\".format(usd=total_portfolio_value_usd))\n",
    "print(\"Total portfolio value in EUR: {eur:.2f}\".format(eur=total_portfolio_value_eur))\n",
    "print(\"Total portfolio value in CHF: {chf:.2f}\".format(chf=total_portfolio_value_chf))\n",
    "#Check if currency conversion is done right\n"
   ]
  },
  {
   "cell_type": "code",
   "execution_count": 9,
   "id": "f95468db-9a4d-4bb6-9621-9263e8b0440d",
   "metadata": {},
   "outputs": [
    {
     "ename": "PMException",
     "evalue": "Cannot get the valuation of LCTU.US at date 2021-01-01 for data point adjusted_close in currency <PositionIdentifier.Currency object at 0x00000193E08AA650> due to the underlying error: Cannot return time series element at 2021-01-01, the time series ranges from 2021-04-08 to 2022-11-28",
     "output_type": "error",
     "traceback": [
      "\u001b[1;31m---------------------------------------------------------------------------\u001b[0m",
      "\u001b[1;31mPMException\u001b[0m                               Traceback (most recent call last)",
      "File \u001b[1;32m~\\dev\\PortfolioManager\\backend\\api\\Portfolios.py:241\u001b[0m, in \u001b[0;36mEquityValuator.get_valuation\u001b[1;34m(self, valdate, target_currency)\u001b[0m\n\u001b[0;32m    240\u001b[0m \u001b[38;5;28;01mtry\u001b[39;00m:\n\u001b[1;32m--> 241\u001b[0m     closing_price \u001b[38;5;241m=\u001b[39m \u001b[43mget_timeseries\u001b[49m\u001b[43m(\u001b[49m\u001b[43mfull_ticker\u001b[49m\u001b[38;5;241;43m=\u001b[39;49m\u001b[38;5;28;43mself\u001b[39;49m\u001b[38;5;241;43m.\u001b[39;49m\u001b[43mpi\u001b[49m\u001b[38;5;241;43m.\u001b[39;49m\u001b[43mid\u001b[49m\u001b[38;5;241;43m.\u001b[39;49m\u001b[43mget_full_ticker\u001b[49m\u001b[43m(\u001b[49m\u001b[43m)\u001b[49m\u001b[43m,\u001b[49m\u001b[43m \u001b[49m\u001b[43mdatapoint_name\u001b[49m\u001b[38;5;241;43m=\u001b[39;49m\u001b[38;5;28;43mself\u001b[39;49m\u001b[38;5;241;43m.\u001b[39;49m\u001b[43mvaluation_data_point\u001b[49m\u001b[43m)\u001b[49m\u001b[38;5;241;43m.\u001b[39;49m\u001b[43mget\u001b[49m\u001b[43m(\u001b[49m\u001b[43mvaldate\u001b[49m\u001b[43m)\u001b[49m\n\u001b[0;32m    242\u001b[0m \u001b[38;5;28;01mexcept\u001b[39;00m PMException \u001b[38;5;28;01mas\u001b[39;00m e:\n",
      "File \u001b[1;32m~\\dev\\PortfolioManager\\backend\\api\\TimeSeries.py:76\u001b[0m, in \u001b[0;36mTimeSeries.get\u001b[1;34m(self, date)\u001b[0m\n\u001b[0;32m     75\u001b[0m \u001b[38;5;28;01mif\u001b[39;00m((index \u001b[38;5;241m>\u001b[39m\u001b[38;5;241m=\u001b[39m \u001b[38;5;28mself\u001b[39m\u001b[38;5;241m.\u001b[39mtime_series\u001b[38;5;241m.\u001b[39msize) \u001b[38;5;129;01mor\u001b[39;00m (index \u001b[38;5;241m<\u001b[39m\u001b[38;5;241m0\u001b[39m)):\n\u001b[1;32m---> 76\u001b[0m     \u001b[38;5;28;01mraise\u001b[39;00m PMException(\u001b[38;5;124m\"\u001b[39m\u001b[38;5;124mCannot return time series element at \u001b[39m\u001b[38;5;132;01m{date}\u001b[39;00m\u001b[38;5;124m, the time series ranges from \u001b[39m\u001b[38;5;132;01m{first_date}\u001b[39;00m\u001b[38;5;124m to \u001b[39m\u001b[38;5;132;01m{last_date}\u001b[39;00m\u001b[38;5;124m\"\u001b[39m\u001b[38;5;241m.\u001b[39mformat(date\u001b[38;5;241m=\u001b[39mdate\u001b[38;5;241m.\u001b[39mstrftime(_DATEFORMAT), \n\u001b[0;32m     77\u001b[0m     first_date\u001b[38;5;241m=\u001b[39m\u001b[38;5;28mself\u001b[39m\u001b[38;5;241m.\u001b[39mstart_date\u001b[38;5;241m.\u001b[39mstrftime(_DATEFORMAT), last_date\u001b[38;5;241m=\u001b[39m\u001b[38;5;28mself\u001b[39m\u001b[38;5;241m.\u001b[39mend_date\u001b[38;5;241m.\u001b[39mstrftime(_DATEFORMAT)))\n\u001b[0;32m     78\u001b[0m \u001b[38;5;28;01mreturn\u001b[39;00m \u001b[38;5;28mself\u001b[39m\u001b[38;5;241m.\u001b[39mtime_series[(date \u001b[38;5;241m-\u001b[39m \u001b[38;5;28mself\u001b[39m\u001b[38;5;241m.\u001b[39mstart_date)\u001b[38;5;241m.\u001b[39mdays]\n",
      "\u001b[1;31mPMException\u001b[0m: Cannot return time series element at 2021-01-01, the time series ranges from 2021-04-08 to 2022-11-28",
      "\nDuring handling of the above exception, another exception occurred:\n",
      "\u001b[1;31mPMException\u001b[0m                               Traceback (most recent call last)",
      "Input \u001b[1;32mIn [9]\u001b[0m, in \u001b[0;36m<cell line: 2>\u001b[1;34m()\u001b[0m\n\u001b[0;32m      1\u001b[0m \u001b[38;5;66;03m#Value my portfolio from 2021 to 2022\u001b[39;00m\n\u001b[1;32m----> 2\u001b[0m historical_value \u001b[38;5;241m=\u001b[39m \u001b[43mPortfolioValuator\u001b[49m\u001b[43m(\u001b[49m\u001b[43mportfolio\u001b[49m\u001b[38;5;241;43m=\u001b[39;49m\u001b[43mmy_portfolio\u001b[49m\u001b[43m)\u001b[49m\u001b[38;5;241;43m.\u001b[39;49m\u001b[43mget_valuations\u001b[49m\u001b[43m(\u001b[49m\u001b[43mdate\u001b[49m\u001b[43m(\u001b[49m\u001b[38;5;241;43m2021\u001b[39;49m\u001b[43m,\u001b[49m\u001b[38;5;241;43m1\u001b[39;49m\u001b[43m,\u001b[49m\u001b[38;5;241;43m1\u001b[39;49m\u001b[43m)\u001b[49m\u001b[43m,\u001b[49m\u001b[43m \u001b[49m\u001b[43mccy\u001b[49m\u001b[38;5;241;43m=\u001b[39;49m\u001b[38;5;124;43m\"\u001b[39;49m\u001b[38;5;124;43mCHF\u001b[39;49m\u001b[38;5;124;43m\"\u001b[39;49m\u001b[43m)\u001b[49m\n",
      "File \u001b[1;32m~\\dev\\PortfolioManager\\backend\\api\\Portfolios.py:317\u001b[0m, in \u001b[0;36mPortfolioValuator.get_valuations\u001b[1;34m(self, start_date, end_date, dp_name, ccy)\u001b[0m\n\u001b[0;32m    315\u001b[0m toreturn:ndarray \u001b[38;5;241m=\u001b[39m numpy\u001b[38;5;241m.\u001b[39mzeros((end_date \u001b[38;5;241m-\u001b[39m start_date)\u001b[38;5;241m.\u001b[39mdays\u001b[38;5;241m+\u001b[39m\u001b[38;5;241m1\u001b[39m)\n\u001b[0;32m    316\u001b[0m \u001b[38;5;28;01mfor\u001b[39;00m i, d \u001b[38;5;129;01min\u001b[39;00m \u001b[38;5;28menumerate\u001b[39m(period):\n\u001b[1;32m--> 317\u001b[0m     toreturn[i]\u001b[38;5;241m=\u001b[39m\u001b[38;5;28;43mself\u001b[39;49m\u001b[38;5;241;43m.\u001b[39;49m\u001b[43mget_valuation\u001b[49m\u001b[43m(\u001b[49m\u001b[43mstart_date\u001b[49m\u001b[38;5;241;43m+\u001b[39;49m\u001b[43mtimedelta\u001b[49m\u001b[43m(\u001b[49m\u001b[43mdays\u001b[49m\u001b[38;5;241;43m=\u001b[39;49m\u001b[43mi\u001b[49m\u001b[43m)\u001b[49m\u001b[43m,\u001b[49m\u001b[43m \u001b[49m\u001b[43mdpname\u001b[49m\u001b[38;5;241;43m=\u001b[39;49m\u001b[43mdp_name\u001b[49m\u001b[43m,\u001b[49m\u001b[43m \u001b[49m\u001b[43mccy\u001b[49m\u001b[38;5;241;43m=\u001b[39;49m\u001b[43mccy\u001b[49m\u001b[43m)\u001b[49m\n\u001b[0;32m    318\u001b[0m \u001b[38;5;28;01mreturn\u001b[39;00m TimeSeries(toreturn, start_date\u001b[38;5;241m=\u001b[39mstart_date, end_date\u001b[38;5;241m=\u001b[39mend_date)\n",
      "File \u001b[1;32m~\\dev\\PortfolioManager\\backend\\api\\Portfolios.py:323\u001b[0m, in \u001b[0;36mPortfolioValuator.get_valuation\u001b[1;34m(self, valdate, dpname, ccy)\u001b[0m\n\u001b[0;32m    321\u001b[0m portfolio_valuation:number \u001b[38;5;241m=\u001b[39m \u001b[38;5;241m0.0\u001b[39m\n\u001b[0;32m    322\u001b[0m \u001b[38;5;28;01mfor\u001b[39;00m position_identifier \u001b[38;5;129;01min\u001b[39;00m \u001b[38;5;28mself\u001b[39m\u001b[38;5;241m.\u001b[39mportfolio\u001b[38;5;241m.\u001b[39mget_positions():\n\u001b[1;32m--> 323\u001b[0m     instrument_value:number \u001b[38;5;241m=\u001b[39m \u001b[43mInstrumentValuator\u001b[49m\u001b[38;5;241;43m.\u001b[39;49m\u001b[43mvaluator\u001b[49m\u001b[43m(\u001b[49m\u001b[38;5;28;43mself\u001b[39;49m\u001b[38;5;241;43m.\u001b[39;49m\u001b[43mportfolio\u001b[49m\u001b[43m,\u001b[49m\u001b[43m \u001b[49m\u001b[43mposition_identifier\u001b[49m\u001b[43m,\u001b[49m\u001b[43m \u001b[49m\u001b[43mdpname\u001b[49m\u001b[38;5;241;43m=\u001b[39;49m\u001b[43mdpname\u001b[49m\u001b[43m)\u001b[49m\u001b[38;5;241;43m.\u001b[39;49m\u001b[43mget_valuation\u001b[49m\u001b[43m(\u001b[49m\u001b[43mvaldate\u001b[49m\u001b[43m,\u001b[49m\u001b[43m \u001b[49m\u001b[43mCurrency\u001b[49m\u001b[43m(\u001b[49m\u001b[43mccy\u001b[49m\u001b[43m)\u001b[49m\u001b[43m)\u001b[49m\n\u001b[0;32m    324\u001b[0m     portfolio_valuation \u001b[38;5;241m=\u001b[39m portfolio_valuation \u001b[38;5;241m+\u001b[39m instrument_value\n\u001b[0;32m    325\u001b[0m \u001b[38;5;28;01mreturn\u001b[39;00m portfolio_valuation\n",
      "File \u001b[1;32m~\\dev\\PortfolioManager\\backend\\api\\Portfolios.py:243\u001b[0m, in \u001b[0;36mEquityValuator.get_valuation\u001b[1;34m(self, valdate, target_currency)\u001b[0m\n\u001b[0;32m    241\u001b[0m     closing_price \u001b[38;5;241m=\u001b[39m get_timeseries(full_ticker\u001b[38;5;241m=\u001b[39m\u001b[38;5;28mself\u001b[39m\u001b[38;5;241m.\u001b[39mpi\u001b[38;5;241m.\u001b[39mid\u001b[38;5;241m.\u001b[39mget_full_ticker(), datapoint_name\u001b[38;5;241m=\u001b[39m\u001b[38;5;28mself\u001b[39m\u001b[38;5;241m.\u001b[39mvaluation_data_point)\u001b[38;5;241m.\u001b[39mget(valdate)\n\u001b[0;32m    242\u001b[0m \u001b[38;5;28;01mexcept\u001b[39;00m PMException \u001b[38;5;28;01mas\u001b[39;00m e:\n\u001b[1;32m--> 243\u001b[0m     \u001b[38;5;28;01mraise\u001b[39;00m PMException(\u001b[38;5;124mf\u001b[39m\u001b[38;5;124m\"\u001b[39m\u001b[38;5;124mCannot get the valuation of \u001b[39m\u001b[38;5;132;01m{\u001b[39;00m\u001b[38;5;28mself\u001b[39m\u001b[38;5;241m.\u001b[39mpi\u001b[38;5;241m.\u001b[39mid\u001b[38;5;241m.\u001b[39mget_full_ticker()\u001b[38;5;132;01m}\u001b[39;00m\u001b[38;5;124m at date \u001b[39m\u001b[38;5;132;01m{\u001b[39;00mvaldate\u001b[38;5;132;01m}\u001b[39;00m\u001b[38;5;124m for data point \u001b[39m\u001b[38;5;132;01m{\u001b[39;00m\u001b[38;5;28mself\u001b[39m\u001b[38;5;241m.\u001b[39mvaluation_data_point\u001b[38;5;132;01m}\u001b[39;00m\u001b[38;5;124m in currency \u001b[39m\u001b[38;5;132;01m{\u001b[39;00mtarget_currency\u001b[38;5;132;01m}\u001b[39;00m\u001b[38;5;124m due to the underlying error: \u001b[39m\u001b[38;5;132;01m{\u001b[39;00m\u001b[38;5;28mstr\u001b[39m(e)\u001b[38;5;132;01m}\u001b[39;00m\u001b[38;5;124m\"\u001b[39m)\n\u001b[0;32m    244\u001b[0m \u001b[38;5;28;01mreturn\u001b[39;00m \u001b[38;5;28mself\u001b[39m\u001b[38;5;241m.\u001b[39mconvert_to_target_currency(closing_price\u001b[38;5;241m*\u001b[39m\u001b[38;5;28mself\u001b[39m\u001b[38;5;241m.\u001b[39mportfolio\u001b[38;5;241m.\u001b[39mget_position_amount(\u001b[38;5;28mself\u001b[39m\u001b[38;5;241m.\u001b[39mpi), valdate, \u001b[38;5;28mself\u001b[39m\u001b[38;5;241m.\u001b[39mpi\u001b[38;5;241m.\u001b[39mid\u001b[38;5;241m.\u001b[39mcurrency\u001b[38;5;241m.\u001b[39mget_identifier(), target_currency\u001b[38;5;241m.\u001b[39mget_identifier())\n",
      "\u001b[1;31mPMException\u001b[0m: Cannot get the valuation of LCTU.US at date 2021-01-01 for data point adjusted_close in currency <PositionIdentifier.Currency object at 0x00000193E08AA650> due to the underlying error: Cannot return time series element at 2021-01-01, the time series ranges from 2021-04-08 to 2022-11-28"
     ]
    }
   ],
   "source": [
    "#Value my portfolio from 2021 to 2022\n",
    "historical_value = PortfolioValuator(portfolio=my_portfolio).get_valuations(date(2021,1,1), ccy=\"CHF\")"
   ]
  }
 ],
 "metadata": {
  "kernelspec": {
   "display_name": "Python 3 (ipykernel)",
   "language": "python",
   "name": "python3"
  },
  "language_info": {
   "codemirror_mode": {
    "name": "ipython",
    "version": 3
   },
   "file_extension": ".py",
   "mimetype": "text/x-python",
   "name": "python",
   "nbconvert_exporter": "python",
   "pygments_lexer": "ipython3",
   "version": "3.10.5"
  }
 },
 "nbformat": 4,
 "nbformat_minor": 5
}
