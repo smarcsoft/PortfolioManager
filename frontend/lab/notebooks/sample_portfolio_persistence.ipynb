{
 "cells": [
  {
   "cell_type": "code",
   "execution_count": 5,
   "id": "8f890927-0495-4ecd-8fae-caece280b5e4",
   "metadata": {},
   "outputs": [],
   "source": [
    "# Demonstrates how to create a new user, start a session with this user, save and load a portfolio for that session\n",
    "from Session import get_user, create_user,delete_user,create_session, Session\n",
    "from Portfolios import Portfolio\n",
    "user = create_user(first_name=\"sebastien\", last_name=\"marc\", email=\"sebtest@yahoo.com\", overwrite=True)\n",
    "session:Session =  create_session(user)\n",
    "# Create portfolio\n",
    "my_portfolio:Portfolio = Portfolio()\n",
    "my_portfolio.buy('MSCI', 2578, tags={'PERFORMANCE SHARES'}) #Performance shares\n",
    "my_portfolio.buy('MSCI', 3916, tags={'RESTRICTED SHARES'}) #Restricted shares\n",
    "my_portfolio.buy('MSCI', 1110, tags={'STOCK OPTIONS'}) #Stock options\n",
    "my_portfolio.buy('MSCI', 807, tags={'BROADRIDGE SHARES'})  #Bradridge shares\n",
    "my_portfolio.buy('MSCI', 3000, tags={'MORGAN STANLEY SHARES'})  #Bradridge shares\n",
    "my_portfolio.add('CHF', 14845)  # BCGE\n",
    "my_portfolio.add('EUR', 2000)   # N26\n",
    "my_portfolio.add('EUR', 1169)   # Boursorama\n",
    "my_portfolio.add('CHF', 387798) # UBS\n",
    "my_portfolio.add('CHF', 42233)  # Liechsteinstein        \n",
    "my_portfolio.add('ETH', 32.9123, tags={'CRYPTOS'})\n",
    "my_portfolio.add('BTC', 2.2347, tags={'CRYPTOS'})\n",
    "my_portfolio.add('DOT', 1214.4988, tags={'CRYPTOS'})\n",
    "my_portfolio.add('EUR', 1462.32, tags={'SWISSQUOTE'})\n",
    "my_portfolio.add('USD', 165928.14, tags={'SWISSQUOTE'})\n",
    "my_portfolio.buy('IPRP.SW', 235, tags={'SWISSQUOTE'})\n",
    "my_portfolio.buy('VUSA.SW', 800, tags={'SWISSQUOTE'})\n",
    "my_portfolio.buy('WSRUSA.SW', 489, tags={'SWISSQUOTE'})\n",
    "my_portfolio.buy('EFA', 428, tags={'SWISSQUOTE'})\n",
    "my_portfolio.buy('LCTU', 428, tags={'SWISSQUOTE'})\n",
    "my_portfolio.buy('BCHN.LSE', 460, tags={'SWISSQUOTE'})\n",
    "my_portfolio.buy('STLA.PA', 2923, tags={'SWISSQUOTE'})\n",
    "my_portfolio.buy('C40.PA', 320, tags={'SWISSQUOTE'})\n",
    "my_portfolio.add('EUR', 162045, tags={'LIFE INSURANCE'})\n",
    "my_portfolio.add('EUR', 75532, tags={'LIFE INSURANCE'})\n",
    "my_portfolio.add('CHF', 28724, tags={'LIFE INSURANCE'})\n",
    "my_portfolio.add('CHF', 8916, tags={'LIFE INSURANCE'})\n",
    "my_portfolio.buy('ACWI.PA', 76, tags={'FRANCE'})\n",
    "session.save_portfolio(my_portfolio)"
   ]
  },
  {
   "cell_type": "code",
   "execution_count": 7,
   "id": "d66e5097-dd3c-49cc-940d-a1967248f4a5",
   "metadata": {},
   "outputs": [
    {
     "name": "stdout",
     "output_type": "stream",
     "text": [
      "7163281.963182432 7163281.963182432\n"
     ]
    }
   ],
   "source": [
    "from datetime import date\n",
    "# Load the portfolio back\n",
    "loaded_portfolio = session.load_portfolio(\"DEFAULT\")\n",
    "# Value the 2 portfolios and check if the valuations are identical\n",
    "val1 = loaded_portfolio.valuator().get_valuation(date(2022,11,27))\n",
    "val2 = my_portfolio.valuator().get_valuation(date(2022,11,27))\n",
    "print(val1, val2)"
   ]
  },
  {
   "cell_type": "code",
   "execution_count": 9,
   "id": "4d3bcbb6-9172-45b8-8d44-b44ecbfb28b5",
   "metadata": {},
   "outputs": [
    {
     "name": "stdout",
     "output_type": "stream",
     "text": [
      "582253.7310577276 582253.7310577276\n"
     ]
    }
   ],
   "source": [
    "# Now demonstrate similar capabilities with porfolio groups\n",
    "from Portfolios import PortfolioGroup\n",
    "\n",
    "user = get_user(email=\"sebTest@yahoo.com\")\n",
    "session:Session =  create_session(user)\n",
    "pg:PortfolioGroup = PortfolioGroup(\"My Investments\")\n",
    "p:Portfolio = Portfolio(\"My cash\")\n",
    "p.add('USD', 67000)\n",
    "p.add('CHF', 480000)\n",
    "pg.add(p)\n",
    "p2:Portfolio = Portfolio()\n",
    "p2.buy('MSFT', 10)\n",
    "p2.buy('MSFT', 20)\n",
    "pg.add(p2)\n",
    "session.save_portfolio_group(pg)\n",
    "\n",
    "# Load the portfolio group back\n",
    "pg2 = session.load_portfolio_group(pg.get_name())\n",
    "# Value the 2 portfolio groups and compare\n",
    "v1 = pg.valuator().get_valuation(date(2022,11,27))\n",
    "v2 = pg2.valuator().get_valuation(date(2022,11,27))\n",
    "print (v1, v2)"
   ]
  }
 ],
 "metadata": {
  "kernelspec": {
   "display_name": "Python 3 (ipykernel)",
   "language": "python",
   "name": "python3"
  },
  "language_info": {
   "codemirror_mode": {
    "name": "ipython",
    "version": 3
   },
   "file_extension": ".py",
   "mimetype": "text/x-python",
   "name": "python",
   "nbconvert_exporter": "python",
   "pygments_lexer": "ipython3",
   "version": "3.10.5"
  }
 },
 "nbformat": 4,
 "nbformat_minor": 5
}
