{
 "cells": [
  {
   "cell_type": "code",
   "execution_count": 6,
   "id": "737d3424-f1e2-4ee4-a034-cff8e4b382fc",
   "metadata": {},
   "outputs": [
    {
     "name": "stdout",
     "output_type": "stream",
     "text": [
      "DatetimeIndex(['2018-01-01', '2018-01-01', '2018-01-01'], dtype='datetime64[ns]', freq=None)\n"
     ]
    }
   ],
   "source": [
    "import datetime\n",
    "import pandas as pd\n",
    "import numpy as np\n",
    "\n",
    "# Created an array (because we gave an array) of DatetimeIndex objects.\n",
    "# Demonstrates the different data structures accepted as input\n",
    "dti = pd.to_datetime(\n",
    "    [\"1/1/2018\", np.datetime64(\"2018-01-01\"), datetime.datetime(2018, 1, 1)]\n",
    ")\n",
    "print(dti)"
   ]
  },
  {
   "cell_type": "code",
   "execution_count": 8,
   "id": "20d5a700-7813-4843-9633-cbc9d5d3e975",
   "metadata": {},
   "outputs": [
    {
     "name": "stdout",
     "output_type": "stream",
     "text": [
      "DatetimeIndex(['2018-01-01 00:00:00', '2018-01-01 01:00:00',\n",
      "               '2018-01-01 02:00:00'],\n",
      "              dtype='datetime64[ns]', freq='H')\n"
     ]
    }
   ],
   "source": [
    "# Generates 3 datetimes hourly\n",
    "dti = pd.date_range(\"2018-01-01\", periods=3, freq=\"H\")\n",
    "print(dti)"
   ]
  },
  {
   "cell_type": "code",
   "execution_count": 60,
   "id": "9d27bdfe-1c0f-4012-a184-3702818a4073",
   "metadata": {},
   "outputs": [
    {
     "data": {
      "text/plain": [
       "Timestamp('2022-11-22 00:00:00')"
      ]
     },
     "execution_count": 60,
     "metadata": {},
     "output_type": "execute_result"
    }
   ],
   "source": [
    "# I can use a Series object of booleans indexed by dates from the origin to \n",
    "# keep track of the portfolio evaluations\n",
    "# Example below assuming the portfolio origin is first of jan 2020\n",
    "idx = pd.date_range(datetime.date(2020,1,1), datetime.date.today(), freq='D')\n",
    "ts=pd.Series(data=np.zeros(idx.shape, dtype=bool), index=idx)\n",
    "# Now let's evaluate the portfolio on Dec 5th and Nov 22 last year\n",
    "ts.at[pd.Timestamp(datetime.date(2022,11,22))] = True\n",
    "ts.at[pd.Timestamp(datetime.date(2021,12,5))] = True\n",
    "# Get all evaluation dates\n",
    "evals = pd.Series(ts.index, index=ts)[True]\n",
    "# Get the latests\n",
    "evals.iat[evals.size-1]"
   ]
  }
 ],
 "metadata": {
  "kernelspec": {
   "display_name": "Python 3 (ipykernel)",
   "language": "python",
   "name": "python3"
  },
  "language_info": {
   "codemirror_mode": {
    "name": "ipython",
    "version": 3
   },
   "file_extension": ".py",
   "mimetype": "text/x-python",
   "name": "python",
   "nbconvert_exporter": "python",
   "pygments_lexer": "ipython3",
   "version": "3.10.5"
  }
 },
 "nbformat": 4,
 "nbformat_minor": 5
}
