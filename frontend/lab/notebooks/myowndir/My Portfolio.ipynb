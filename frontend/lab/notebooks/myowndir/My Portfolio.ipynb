{
 "cells": [
  {
   "cell_type": "code",
   "execution_count": 1,
   "id": "f4683ac4-e461-4a82-98d5-7c03ad92ca9c",
   "metadata": {},
   "outputs": [],
   "source": [
    "from Portfolios import Portfolio, PortfolioValuator\n",
    "from TimeSeries import TimeSeries\n",
    "import numpy as npplt\n",
    "import pandas as pd\n",
    "import matplotlib.pyplot as plt \n",
    "from datetime import date\n",
    "\n",
    "\n",
    "my_portfolio:Portfolio = Portfolio()\n",
    "my_portfolio.buy('MSCI', 2578, tags={'PERFORMANCE SHARES'}) #Performance shares\n",
    "my_portfolio.buy('MSCI', 3916, tags={'RESTRICTED SHARES'}) #Restricted shares\n",
    "my_portfolio.buy('MSCI', 3916, tags={'STOCK OPTIONS'}) #Stock options\n",
    "my_portfolio.buy('MSCI', 807, tags={'BROADRIDGE SHARES'})  #Bradridge shares\n",
    "my_portfolio.buy('MSCI', 3000, tags={'MORGAN STANLEY SHARES'})  #Bradridge shares\n",
    "v:PortfolioValuator = PortfolioValuator(portfolio=my_portfolio)\n",
    "# Value the MSCI stocks\n",
    "msci_stocks = v.get_valuation(date.fromisoformat(\"2022-09-01\"))"
   ]
  },
  {
   "cell_type": "code",
   "execution_count": 2,
   "id": "2bc778e8-b318-4fe5-b816-3deef619c52b",
   "metadata": {},
   "outputs": [],
   "source": [
    "#Add cash\n",
    "my_portfolio.add('CHF', 14845)  # BCGE\n",
    "my_portfolio.add('EUR', 5604)   # N26\n",
    "my_portfolio.add('EUR', 1169)   # Boursorama\n",
    "my_portfolio.add('CHF', 401598) # UBS\n",
    "my_portfolio.add('CHF', 37640)  # Liechsteinstein\n",
    "with_cash = PortfolioValuator(portfolio=my_portfolio).get_valuation(date.fromisoformat(\"2022-09-01\"))"
   ]
  },
  {
   "cell_type": "code",
   "execution_count": 3,
   "id": "934acdb8-e25e-41f6-81af-2ce750308ce6",
   "metadata": {},
   "outputs": [],
   "source": [
    "# Add crypto currencies\n",
    "my_portfolio.add('ETH', 32.9123, tags={'CRYPTOS'})\n",
    "my_portfolio.add('BTC', 2.2347, tags={'CRYPTOS'})\n",
    "my_portfolio.add('DOT', 1214.4988, tags={'CRYPTOS'})\n",
    "with_cryptos = PortfolioValuator(portfolio=my_portfolio).get_valuation(date.fromisoformat(\"2022-09-01\"))"
   ]
  },
  {
   "cell_type": "code",
   "execution_count": 4,
   "id": "bf0a3baf-ff55-4b95-876e-234d6245aa0f",
   "metadata": {},
   "outputs": [],
   "source": [
    "my_portfolio.add('CHF', 50000) # DEBTORS"
   ]
  },
  {
   "cell_type": "code",
   "execution_count": 5,
   "id": "da37d151-5034-4b08-9b7c-e02ff4794db5",
   "metadata": {},
   "outputs": [],
   "source": [
    "with_deptors = PortfolioValuator(portfolio=my_portfolio).get_valuation(date.fromisoformat(\"2022-09-01\"))"
   ]
  },
  {
   "cell_type": "code",
   "execution_count": 6,
   "id": "685871e0-51a6-4efa-b58a-beeae116d961",
   "metadata": {},
   "outputs": [
    {
     "ename": "PMException",
     "evalue": "Cannot find or process the instrument identified by ticker code C40.SW",
     "output_type": "error",
     "traceback": [
      "\u001b[1;31m---------------------------------------------------------------------------\u001b[0m",
      "\u001b[1;31mFileNotFoundError\u001b[0m                         Traceback (most recent call last)",
      "File \u001b[1;32m~\\dev\\PortfolioManager\\backend\\api\\Portfolios.py:66\u001b[0m, in \u001b[0;36mPortfolio.buy\u001b[1;34m(self, ticker_code, quantity, tags)\u001b[0m\n\u001b[0;32m     65\u001b[0m \u001b[38;5;28;01mtry\u001b[39;00m:\n\u001b[1;32m---> 66\u001b[0m     ticker \u001b[38;5;241m=\u001b[39m \u001b[43mget_ticker\u001b[49m\u001b[43m(\u001b[49m\u001b[43mfull_ticker\u001b[49m\u001b[43m)\u001b[49m\n\u001b[0;32m     67\u001b[0m     \u001b[38;5;28mself\u001b[39m\u001b[38;5;241m.\u001b[39m_buy(PositionIdentifier(EQUITY, ticker, tags), quantity)\n",
      "File \u001b[1;32m~\\dev\\PortfolioManager\\backend\\api\\pmdata.py:173\u001b[0m, in \u001b[0;36mget_ticker\u001b[1;34m(full_ticker)\u001b[0m\n\u001b[0;32m    172\u001b[0m idfile \u001b[38;5;241m=\u001b[39m os\u001b[38;5;241m.\u001b[39mpath\u001b[38;5;241m.\u001b[39mjoin(get_equity_database(), exchange, ticker, \u001b[38;5;124m\"\u001b[39m\u001b[38;5;124mid\u001b[39m\u001b[38;5;124m\"\u001b[39m)\n\u001b[1;32m--> 173\u001b[0m \u001b[38;5;28;01mwith\u001b[39;00m \u001b[38;5;28;43mopen\u001b[39;49m\u001b[43m(\u001b[49m\u001b[43midfile\u001b[49m\u001b[43m)\u001b[49m \u001b[38;5;28;01mas\u001b[39;00m idf:\n\u001b[0;32m    174\u001b[0m     td \u001b[38;5;241m=\u001b[39m json\u001b[38;5;241m.\u001b[39mload(idf)\n",
      "\u001b[1;31mFileNotFoundError\u001b[0m: [Errno 2] No such file or directory: 'C:\\\\Users\\\\sebma\\\\dev\\\\PortfolioManager\\\\backend\\\\db/EQUITIES\\\\SW\\\\C40\\\\id'",
      "\nDuring handling of the above exception, another exception occurred:\n",
      "\u001b[1;31mPMException\u001b[0m                               Traceback (most recent call last)",
      "Input \u001b[1;32mIn [6]\u001b[0m, in \u001b[0;36m<cell line: 13>\u001b[1;34m()\u001b[0m\n\u001b[0;32m     11\u001b[0m my_portfolio\u001b[38;5;241m.\u001b[39mbuy(\u001b[38;5;124m'\u001b[39m\u001b[38;5;124mLCTU\u001b[39m\u001b[38;5;124m'\u001b[39m, \u001b[38;5;241m428\u001b[39m, tags\u001b[38;5;241m=\u001b[39m{\u001b[38;5;124m'\u001b[39m\u001b[38;5;124mSWISSQUOTE\u001b[39m\u001b[38;5;124m'\u001b[39m})\n\u001b[0;32m     12\u001b[0m my_portfolio\u001b[38;5;241m.\u001b[39mbuy(\u001b[38;5;124m'\u001b[39m\u001b[38;5;124mSTLA.PA\u001b[39m\u001b[38;5;124m'\u001b[39m, \u001b[38;5;241m2923\u001b[39m, tags\u001b[38;5;241m=\u001b[39m{\u001b[38;5;124m'\u001b[39m\u001b[38;5;124mSWISSQUOTE\u001b[39m\u001b[38;5;124m'\u001b[39m})\n\u001b[1;32m---> 13\u001b[0m \u001b[43mmy_portfolio\u001b[49m\u001b[38;5;241;43m.\u001b[39;49m\u001b[43mbuy\u001b[49m\u001b[43m(\u001b[49m\u001b[38;5;124;43m'\u001b[39;49m\u001b[38;5;124;43mC40.SW\u001b[39;49m\u001b[38;5;124;43m'\u001b[39;49m\u001b[43m,\u001b[49m\u001b[43m \u001b[49m\u001b[38;5;241;43m320\u001b[39;49m\u001b[43m,\u001b[49m\u001b[43m \u001b[49m\u001b[43mtags\u001b[49m\u001b[38;5;241;43m=\u001b[39;49m\u001b[43m{\u001b[49m\u001b[38;5;124;43m'\u001b[39;49m\u001b[38;5;124;43mSWISSQUOTE\u001b[39;49m\u001b[38;5;124;43m'\u001b[39;49m\u001b[43m}\u001b[49m\u001b[43m)\u001b[49m\n\u001b[0;32m     14\u001b[0m with_swissquote \u001b[38;5;241m=\u001b[39m PortfolioValuator(portfolio\u001b[38;5;241m=\u001b[39mmy_portfolio)\u001b[38;5;241m.\u001b[39mget_valuation(date\u001b[38;5;241m.\u001b[39mfromisoformat(\u001b[38;5;124m\"\u001b[39m\u001b[38;5;124m2022-09-01\u001b[39m\u001b[38;5;124m\"\u001b[39m))\n",
      "File \u001b[1;32m~\\dev\\PortfolioManager\\backend\\api\\Portfolios.py:69\u001b[0m, in \u001b[0;36mPortfolio.buy\u001b[1;34m(self, ticker_code, quantity, tags)\u001b[0m\n\u001b[0;32m     67\u001b[0m     \u001b[38;5;28mself\u001b[39m\u001b[38;5;241m.\u001b[39m_buy(PositionIdentifier(EQUITY, ticker, tags), quantity)\n\u001b[0;32m     68\u001b[0m \u001b[38;5;28;01mexcept\u001b[39;00m \u001b[38;5;167;01mException\u001b[39;00m:\n\u001b[1;32m---> 69\u001b[0m     \u001b[38;5;28;01mraise\u001b[39;00m PMException(\u001b[38;5;124m\"\u001b[39m\u001b[38;5;124mCannot find or process the instrument identified by ticker code \u001b[39m\u001b[38;5;124m\"\u001b[39m \u001b[38;5;241m+\u001b[39m ticker_code)\n",
      "\u001b[1;31mPMException\u001b[0m: Cannot find or process the instrument identified by ticker code C40.SW"
     ]
    }
   ],
   "source": [
    "# Add swissquote account\n",
    "my_portfolio.add('EUR', 1462.32, tags={'SWISSQUOTE'})\n",
    "my_portfolio.add('USD', 165928.14, tags={'SWISSQUOTE'})\n",
    "my_portfolio.buy('IPRP.SW', 235, tags={'SWISSQUOTE'})\n",
    "my_portfolio.buy('VUSA.SW', 800, tags={'SWISSQUOTE'})\n",
    "my_portfolio.buy('WSRUSA.SW', 489, tags={'SWISSQUOTE'})\n",
    "my_portfolio.buy('EFA', 428, tags={'SWISSQUOTE'})\n",
    "my_portfolio.buy('LCTU', 428, tags={'SWISSQUOTE'})\n",
    "# Add cash position for BCHE.SW which we are not covering\n",
    "my_portfolio.add('USD', 26215.40, tags={'SWISSQUOTE'})\n",
    "my_portfolio.buy('LCTU', 428, tags={'SWISSQUOTE'})\n",
    "my_portfolio.buy('STLA.PA', 2923, tags={'SWISSQUOTE'})\n",
    "my_portfolio.buy('C40.SW', 320, tags={'SWISSQUOTE'})\n",
    "with_swissquote = PortfolioValuator(portfolio=my_portfolio).get_valuation(date.fromisoformat(\"2022-09-01\"))"
   ]
  },
  {
   "cell_type": "code",
   "execution_count": null,
   "id": "075395f7-5d71-48f1-9366-51b6472f498a",
   "metadata": {},
   "outputs": [],
   "source": [
    "from pmdata import search_isin\n",
    "search_isin(\"CH0454408300\")[0].code"
   ]
  },
  {
   "cell_type": "code",
   "execution_count": 7,
   "id": "2bbd5b03-f063-4173-b41f-d36ebad5befb",
   "metadata": {},
   "outputs": [
    {
     "ename": "FileNotFoundError",
     "evalue": "[Errno 2] No such file or directory: 'C:\\\\Users\\\\sebma\\\\dev\\\\PortfolioManager\\\\backend\\\\db/EQUITIES\\\\PA\\\\universe.json'",
     "output_type": "error",
     "traceback": [
      "\u001b[1;31m---------------------------------------------------------------------------\u001b[0m",
      "\u001b[1;31mFileNotFoundError\u001b[0m                         Traceback (most recent call last)",
      "Input \u001b[1;32mIn [7]\u001b[0m, in \u001b[0;36m<cell line: 2>\u001b[1;34m()\u001b[0m\n\u001b[0;32m      1\u001b[0m \u001b[38;5;28;01mfrom\u001b[39;00m \u001b[38;5;21;01mpmdata\u001b[39;00m \u001b[38;5;28;01mimport\u001b[39;00m search\n\u001b[1;32m----> 2\u001b[0m \u001b[43msearch\u001b[49m\u001b[43m(\u001b[49m\u001b[38;5;124;43m\"\u001b[39;49m\u001b[38;5;124;43mAMUNDI CAC 40 ETF\u001b[39;49m\u001b[38;5;124;43m\"\u001b[39;49m\u001b[43m)\u001b[49m\n",
      "File \u001b[1;32m~\\dev\\PortfolioManager\\backend\\api\\pmdata.py:48\u001b[0m, in \u001b[0;36msearch\u001b[1;34m(symbol_name, market, type)\u001b[0m\n\u001b[0;32m     40\u001b[0m \u001b[38;5;124;03m'''\u001b[39;00m\n\u001b[0;32m     41\u001b[0m \u001b[38;5;124;03mSearches for the instrument containing symbol_name in its name for the market specified\u001b[39;00m\n\u001b[0;32m     42\u001b[0m \u001b[38;5;124;03mArguments:\u001b[39;00m\n\u001b[1;32m   (...)\u001b[0m\n\u001b[0;32m     45\u001b[0m \u001b[38;5;124;03mtype: the types of symbol to look for. See the results of get_symbol_types()\u001b[39;00m\n\u001b[0;32m     46\u001b[0m \u001b[38;5;124;03m'''\u001b[39;00m\n\u001b[0;32m     47\u001b[0m \u001b[38;5;28;01mif\u001b[39;00m \u001b[38;5;129;01mnot\u001b[39;00m __tickercache:\n\u001b[1;32m---> 48\u001b[0m     \u001b[43m__init_ticker_cache\u001b[49m\u001b[43m(\u001b[49m\u001b[43m)\u001b[49m\n\u001b[0;32m     49\u001b[0m tickers \u001b[38;5;241m=\u001b[39m __get_tickers_for_market(market)\n\u001b[0;32m     50\u001b[0m \u001b[38;5;66;03m# Find the name in names\u001b[39;00m\n",
      "File \u001b[1;32m~\\dev\\PortfolioManager\\backend\\api\\pmdata.py:90\u001b[0m, in \u001b[0;36m__init_ticker_cache\u001b[1;34m()\u001b[0m\n\u001b[0;32m     88\u001b[0m path \u001b[38;5;241m=\u001b[39m os\u001b[38;5;241m.\u001b[39mpath\u001b[38;5;241m.\u001b[39mjoin(get_equity_database(), exchange)\n\u001b[0;32m     89\u001b[0m tickers\u001b[38;5;241m=\u001b[39m[]\n\u001b[1;32m---> 90\u001b[0m \u001b[38;5;28;01mwith\u001b[39;00m \u001b[38;5;28;43mopen\u001b[39;49m\u001b[43m(\u001b[49m\u001b[43mos\u001b[49m\u001b[38;5;241;43m.\u001b[39;49m\u001b[43mpath\u001b[49m\u001b[38;5;241;43m.\u001b[39;49m\u001b[43mjoin\u001b[49m\u001b[43m(\u001b[49m\u001b[43mpath\u001b[49m\u001b[43m,\u001b[49m\u001b[43m \u001b[49m\u001b[38;5;124;43m\"\u001b[39;49m\u001b[38;5;124;43muniverse.json\u001b[39;49m\u001b[38;5;124;43m\"\u001b[39;49m\u001b[43m)\u001b[49m\u001b[43m)\u001b[49m \u001b[38;5;28;01mas\u001b[39;00m universefile:\n\u001b[0;32m     91\u001b[0m     tickers\u001b[38;5;241m=\u001b[39mjson\u001b[38;5;241m.\u001b[39mload(universefile)\n\u001b[0;32m     92\u001b[0m \u001b[38;5;28;01mfor\u001b[39;00m ticker \u001b[38;5;129;01min\u001b[39;00m tickers:\n",
      "\u001b[1;31mFileNotFoundError\u001b[0m: [Errno 2] No such file or directory: 'C:\\\\Users\\\\sebma\\\\dev\\\\PortfolioManager\\\\backend\\\\db/EQUITIES\\\\PA\\\\universe.json'"
     ]
    }
   ],
   "source": [
    "from pmdata import search\n",
    "search(\"AMUNDI CAC 40 ETF\")"
   ]
  }
 ],
 "metadata": {
  "kernelspec": {
   "display_name": "Python 3 (ipykernel)",
   "language": "python",
   "name": "python3"
  },
  "language_info": {
   "codemirror_mode": {
    "name": "ipython",
    "version": 3
   },
   "file_extension": ".py",
   "mimetype": "text/x-python",
   "name": "python",
   "nbconvert_exporter": "python",
   "pygments_lexer": "ipython3",
   "version": "3.10.5"
  }
 },
 "nbformat": 4,
 "nbformat_minor": 5
}
