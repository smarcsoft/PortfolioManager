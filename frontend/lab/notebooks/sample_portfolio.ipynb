{
 "cells": [
  {
   "cell_type": "code",
   "execution_count": 1,
   "id": "078202da-a442-4a31-b49b-9f6f04cac9e0",
   "metadata": {},
   "outputs": [
    {
     "name": "stdout",
     "output_type": "stream",
     "text": [
      "Portfolio DEFAULT \n",
      "30 Equity Ticker MSFT for company Microsoft Corporation with isin US5949181045\n",
      "\n"
     ]
    }
   ],
   "source": [
    "#Demonstrated how transactions are recorded, creating a portfolio with different constituents with time\n",
    "\n",
    "from Portfolios import *\n",
    "from TimeSeries import TimeSeries\n",
    "\n",
    "p:Portfolio = Portfolio()\n",
    "#Buying 10 shares of Microsoft on Jan 15 2020 at 15:00\n",
    "p.buy('MSFT', 10, datetime(2020,1,15, )\n",
    "#Buying another 20 shares of Microsoft\n",
    "p.buy('MSFT', 20)\n",
    "# Display the resulting portfolio\n",
    "print(p.pretty_print())"
   ]
  },
  {
   "cell_type": "code",
   "execution_count": 2,
   "id": "1c65d28e-4947-41dc-8b28-912747da8b6d",
   "metadata": {},
   "outputs": [
    {
     "data": {
      "text/plain": [
       "7790.04638671875"
      ]
     },
     "execution_count": 2,
     "metadata": {},
     "output_type": "execute_result"
    }
   ],
   "source": [
    "# Value the porfolio for a recent date\n",
    "p.valuator().get_valuation(date.fromisoformat(\"2022-09-01\"))"
   ]
  },
  {
   "cell_type": "code",
   "execution_count": 3,
   "id": "ccb461b4-503d-48fe-bae6-46d556cbac44",
   "metadata": {},
   "outputs": [
    {
     "data": {
      "text/plain": [
       "Portfolio Group My Investments containing 2 portfolios: \n",
       "Portfolio DEFAULT \n",
       "30 Equity Ticker MSFT for company Microsoft Corporation with isin US5949181045\n",
       "Portfolio My cash \n",
       "67000 Cash USD\n",
       "480000 Cash CHF"
      ]
     },
     "execution_count": 3,
     "metadata": {},
     "output_type": "execute_result"
    }
   ],
   "source": [
    "from Portfolios import PortfolioGroup, Portfolio\n",
    "# In this second example we are creating a group of portfolios.\n",
    "# Investments can be placed in different portfolios and we can report on the different portfolios separately and on the group of portfolios as well\n",
    "# This can be useful to manage and/or combine separate accounts\n",
    "\n",
    "pg:PortfolioGroup = PortfolioGroup(\"My Investments\")\n",
    "p2:Portfolio = Portfolio(\"My cash\")\n",
    "p2.add('USD', 67000)\n",
    "p2.add('CHF', 480000)\n",
    "pg.add(p)\n",
    "pg.add(p2)\n",
    "pg"
   ]
  },
  {
   "cell_type": "code",
   "execution_count": 4,
   "id": "0e717786-6d21-4bbf-856e-81bbf6053fa8",
   "metadata": {},
   "outputs": [
    {
     "data": {
      "text/plain": [
       "565036.1908050622"
      ]
     },
     "execution_count": 4,
     "metadata": {},
     "output_type": "execute_result"
    }
   ],
   "source": [
    "# I can value a portfolio or a group of portfolios\n",
    "pg.valuator().get_valuation(date.fromisoformat(\"2022-09-01\"))"
   ]
  }
 ],
 "metadata": {
  "kernelspec": {
   "display_name": "Python 3 (ipykernel)",
   "language": "python",
   "name": "python3"
  },
  "language_info": {
   "codemirror_mode": {
    "name": "ipython",
    "version": 3
   },
   "file_extension": ".py",
   "mimetype": "text/x-python",
   "name": "python",
   "nbconvert_exporter": "python",
   "pygments_lexer": "ipython3",
   "version": "3.10.5"
  }
 },
 "nbformat": 4,
 "nbformat_minor": 5
}
